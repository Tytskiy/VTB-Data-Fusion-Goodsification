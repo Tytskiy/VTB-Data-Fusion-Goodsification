{
  "nbformat": 4,
  "nbformat_minor": 0,
  "metadata": {
    "accelerator": "GPU",
    "colab": {
      "name": "Доразметка",
      "provenance": [],
      "collapsed_sections": [
        "Ih5XFZr_E45Y"
      ],
      "toc_visible": true,
      "machine_shape": "hm"
    },
    "kernelspec": {
      "display_name": "Python 3",
      "name": "python3"
    },
    "widgets": {
      "application/vnd.jupyter.widget-state+json": {
        "6f30ba69beed47c3a64881a759d9730c": {
          "model_module": "@jupyter-widgets/controls",
          "model_name": "HBoxModel",
          "state": {
            "_view_name": "HBoxView",
            "_dom_classes": [],
            "_model_name": "HBoxModel",
            "_view_module": "@jupyter-widgets/controls",
            "_model_module_version": "1.5.0",
            "_view_count": null,
            "_view_module_version": "1.5.0",
            "box_style": "",
            "layout": "IPY_MODEL_de719af7b9ba47ba8d0634f97e0253bf",
            "_model_module": "@jupyter-widgets/controls",
            "children": [
              "IPY_MODEL_3239c942c44f40428e2708bb632fa25b",
              "IPY_MODEL_48f5f6d628d14b5fa3a5f8af283e5c09"
            ]
          }
        },
        "de719af7b9ba47ba8d0634f97e0253bf": {
          "model_module": "@jupyter-widgets/base",
          "model_name": "LayoutModel",
          "state": {
            "_view_name": "LayoutView",
            "grid_template_rows": null,
            "right": null,
            "justify_content": null,
            "_view_module": "@jupyter-widgets/base",
            "overflow": null,
            "_model_module_version": "1.2.0",
            "_view_count": null,
            "flex_flow": null,
            "width": null,
            "min_width": null,
            "border": null,
            "align_items": null,
            "bottom": null,
            "_model_module": "@jupyter-widgets/base",
            "top": null,
            "grid_column": null,
            "overflow_y": null,
            "overflow_x": null,
            "grid_auto_flow": null,
            "grid_area": null,
            "grid_template_columns": null,
            "flex": null,
            "_model_name": "LayoutModel",
            "justify_items": null,
            "grid_row": null,
            "max_height": null,
            "align_content": null,
            "visibility": null,
            "align_self": null,
            "height": null,
            "min_height": null,
            "padding": null,
            "grid_auto_rows": null,
            "grid_gap": null,
            "max_width": null,
            "order": null,
            "_view_module_version": "1.2.0",
            "grid_template_areas": null,
            "object_position": null,
            "object_fit": null,
            "grid_auto_columns": null,
            "margin": null,
            "display": null,
            "left": null
          }
        },
        "3239c942c44f40428e2708bb632fa25b": {
          "model_module": "@jupyter-widgets/controls",
          "model_name": "FloatProgressModel",
          "state": {
            "_view_name": "ProgressView",
            "style": "IPY_MODEL_74ec1dcdf5cd4394bcb2133b4466b5c4",
            "_dom_classes": [],
            "description": "100%",
            "_model_name": "FloatProgressModel",
            "bar_style": "success",
            "max": 30,
            "_view_module": "@jupyter-widgets/controls",
            "_model_module_version": "1.5.0",
            "value": 30,
            "_view_count": null,
            "_view_module_version": "1.5.0",
            "orientation": "horizontal",
            "min": 0,
            "description_tooltip": null,
            "_model_module": "@jupyter-widgets/controls",
            "layout": "IPY_MODEL_2e2c73a6a5f54091af40873cefd9e9a1"
          }
        },
        "48f5f6d628d14b5fa3a5f8af283e5c09": {
          "model_module": "@jupyter-widgets/controls",
          "model_name": "HTMLModel",
          "state": {
            "_view_name": "HTMLView",
            "style": "IPY_MODEL_0c264da35cf9471a8efd1a2610aa16ed",
            "_dom_classes": [],
            "description": "",
            "_model_name": "HTMLModel",
            "placeholder": "​",
            "_view_module": "@jupyter-widgets/controls",
            "_model_module_version": "1.5.0",
            "value": " 30/30 [23:25&lt;00:00, 46.84s/it]",
            "_view_count": null,
            "_view_module_version": "1.5.0",
            "description_tooltip": null,
            "_model_module": "@jupyter-widgets/controls",
            "layout": "IPY_MODEL_7e6f4af66ba9403bbf8af39c541884c0"
          }
        },
        "74ec1dcdf5cd4394bcb2133b4466b5c4": {
          "model_module": "@jupyter-widgets/controls",
          "model_name": "ProgressStyleModel",
          "state": {
            "_view_name": "StyleView",
            "_model_name": "ProgressStyleModel",
            "description_width": "initial",
            "_view_module": "@jupyter-widgets/base",
            "_model_module_version": "1.5.0",
            "_view_count": null,
            "_view_module_version": "1.2.0",
            "bar_color": null,
            "_model_module": "@jupyter-widgets/controls"
          }
        },
        "2e2c73a6a5f54091af40873cefd9e9a1": {
          "model_module": "@jupyter-widgets/base",
          "model_name": "LayoutModel",
          "state": {
            "_view_name": "LayoutView",
            "grid_template_rows": null,
            "right": null,
            "justify_content": null,
            "_view_module": "@jupyter-widgets/base",
            "overflow": null,
            "_model_module_version": "1.2.0",
            "_view_count": null,
            "flex_flow": null,
            "width": null,
            "min_width": null,
            "border": null,
            "align_items": null,
            "bottom": null,
            "_model_module": "@jupyter-widgets/base",
            "top": null,
            "grid_column": null,
            "overflow_y": null,
            "overflow_x": null,
            "grid_auto_flow": null,
            "grid_area": null,
            "grid_template_columns": null,
            "flex": null,
            "_model_name": "LayoutModel",
            "justify_items": null,
            "grid_row": null,
            "max_height": null,
            "align_content": null,
            "visibility": null,
            "align_self": null,
            "height": null,
            "min_height": null,
            "padding": null,
            "grid_auto_rows": null,
            "grid_gap": null,
            "max_width": null,
            "order": null,
            "_view_module_version": "1.2.0",
            "grid_template_areas": null,
            "object_position": null,
            "object_fit": null,
            "grid_auto_columns": null,
            "margin": null,
            "display": null,
            "left": null
          }
        },
        "0c264da35cf9471a8efd1a2610aa16ed": {
          "model_module": "@jupyter-widgets/controls",
          "model_name": "DescriptionStyleModel",
          "state": {
            "_view_name": "StyleView",
            "_model_name": "DescriptionStyleModel",
            "description_width": "",
            "_view_module": "@jupyter-widgets/base",
            "_model_module_version": "1.5.0",
            "_view_count": null,
            "_view_module_version": "1.2.0",
            "_model_module": "@jupyter-widgets/controls"
          }
        },
        "7e6f4af66ba9403bbf8af39c541884c0": {
          "model_module": "@jupyter-widgets/base",
          "model_name": "LayoutModel",
          "state": {
            "_view_name": "LayoutView",
            "grid_template_rows": null,
            "right": null,
            "justify_content": null,
            "_view_module": "@jupyter-widgets/base",
            "overflow": null,
            "_model_module_version": "1.2.0",
            "_view_count": null,
            "flex_flow": null,
            "width": null,
            "min_width": null,
            "border": null,
            "align_items": null,
            "bottom": null,
            "_model_module": "@jupyter-widgets/base",
            "top": null,
            "grid_column": null,
            "overflow_y": null,
            "overflow_x": null,
            "grid_auto_flow": null,
            "grid_area": null,
            "grid_template_columns": null,
            "flex": null,
            "_model_name": "LayoutModel",
            "justify_items": null,
            "grid_row": null,
            "max_height": null,
            "align_content": null,
            "visibility": null,
            "align_self": null,
            "height": null,
            "min_height": null,
            "padding": null,
            "grid_auto_rows": null,
            "grid_gap": null,
            "max_width": null,
            "order": null,
            "_view_module_version": "1.2.0",
            "grid_template_areas": null,
            "object_position": null,
            "object_fit": null,
            "grid_auto_columns": null,
            "margin": null,
            "display": null,
            "left": null
          }
        }
      }
    }
  },
  "cells": [
    {
      "cell_type": "markdown",
      "metadata": {
        "id": "ciYkswZQErm_"
      },
      "source": [
        "# Загрузка данных и библиотек"
      ]
    },
    {
      "cell_type": "code",
      "metadata": {
        "colab": {
          "base_uri": "https://localhost:8080/"
        },
        "id": "IHQyRkXd-l4K",
        "outputId": "ecb968bd-87a6-4663-fbf3-347595e3baf3"
      },
      "source": [
        "from google.colab import drive\n",
        "drive.mount('/content/drive')"
      ],
      "execution_count": null,
      "outputs": [
        {
          "output_type": "stream",
          "text": [
            "Drive already mounted at /content/drive; to attempt to forcibly remount, call drive.mount(\"/content/drive\", force_remount=True).\n"
          ],
          "name": "stdout"
        }
      ]
    },
    {
      "cell_type": "code",
      "metadata": {
        "id": "G1OI2blnX7Kr"
      },
      "source": [
        "import pandas as pd\n",
        "import numpy as np\n",
        "import matplotlib.pyplot as plt\n",
        "import seaborn as sn\n",
        "import pickle\n",
        "import re\n",
        "\n",
        "#baseline\n",
        "from sklearn.linear_model import LogisticRegression\n",
        "from sklearn.calibration import CalibratedClassifierCV\n",
        "\n",
        "from sklearn.svm import LinearSVC\n",
        "from sklearn.svm import SVC\n",
        "from sklearn.model_selection import train_test_split\n",
        "from sklearn.model_selection import cross_val_score\n",
        "from sklearn.model_selection import cross_val_predict\n",
        "from sklearn.model_selection import train_test_split\n",
        "from sklearn.model_selection import StratifiedKFold\n",
        "from sklearn.model_selection import KFold\n",
        "from sklearn.feature_extraction.text import TfidfVectorizer, CountVectorizer\n",
        "\n",
        "from sklearn.metrics import f1_score\n",
        "from scipy import sparse\n",
        "from sklearn.preprocessing import OneHotEncoder, StandardScaler\n",
        "\n",
        "from nltk.corpus import stopwords \n",
        "###\n",
        "import lightgbm as lgb\n",
        "%matplotlib inline"
      ],
      "execution_count": null,
      "outputs": []
    },
    {
      "cell_type": "code",
      "metadata": {
        "colab": {
          "base_uri": "https://localhost:8080/"
        },
        "id": "Bf9CGAKtN8SG",
        "outputId": "3a832d72-ef6d-4e60-90f3-fe6228e6c65e"
      },
      "source": [
        "import nltk\n",
        "nltk.download('stopwords')\n",
        "nltk.download('punkt')\n",
        "stop_russian_words = stopwords.words('russian')"
      ],
      "execution_count": null,
      "outputs": [
        {
          "output_type": "stream",
          "text": [
            "[nltk_data] Downloading package stopwords to /root/nltk_data...\n",
            "[nltk_data]   Package stopwords is already up-to-date!\n",
            "[nltk_data] Downloading package punkt to /root/nltk_data...\n",
            "[nltk_data]   Package punkt is already up-to-date!\n"
          ],
          "name": "stdout"
        }
      ]
    },
    {
      "cell_type": "code",
      "metadata": {
        "colab": {
          "base_uri": "https://localhost:8080/"
        },
        "id": "HdiChHdY1JFb",
        "outputId": "f26ef5b0-c2fa-40d6-eaad-58b8fcd5d761"
      },
      "source": [
        "!pip install fastparquet"
      ],
      "execution_count": null,
      "outputs": [
        {
          "output_type": "stream",
          "text": [
            "Requirement already satisfied: fastparquet in /usr/local/lib/python3.7/dist-packages (0.5.0)\n",
            "Requirement already satisfied: numpy>=1.11 in /usr/local/lib/python3.7/dist-packages (from fastparquet) (1.19.5)\n",
            "Requirement already satisfied: pandas>=1.1.0 in /usr/local/lib/python3.7/dist-packages (from fastparquet) (1.1.5)\n",
            "Requirement already satisfied: thrift>=0.11.0 in /usr/local/lib/python3.7/dist-packages (from fastparquet) (0.13.0)\n",
            "Requirement already satisfied: numba>=0.49 in /usr/local/lib/python3.7/dist-packages (from fastparquet) (0.51.2)\n",
            "Requirement already satisfied: python-dateutil>=2.7.3 in /usr/local/lib/python3.7/dist-packages (from pandas>=1.1.0->fastparquet) (2.8.1)\n",
            "Requirement already satisfied: pytz>=2017.2 in /usr/local/lib/python3.7/dist-packages (from pandas>=1.1.0->fastparquet) (2018.9)\n",
            "Requirement already satisfied: six>=1.7.2 in /usr/local/lib/python3.7/dist-packages (from thrift>=0.11.0->fastparquet) (1.15.0)\n",
            "Requirement already satisfied: llvmlite<0.35,>=0.34.0.dev0 in /usr/local/lib/python3.7/dist-packages (from numba>=0.49->fastparquet) (0.34.0)\n",
            "Requirement already satisfied: setuptools in /usr/local/lib/python3.7/dist-packages (from numba>=0.49->fastparquet) (54.1.2)\n"
          ],
          "name": "stdout"
        }
      ]
    },
    {
      "cell_type": "code",
      "metadata": {
        "id": "u52uSYLETRdT"
      },
      "source": [
        "path_to_data = \"drive/MyDrive/Data Fusion/\""
      ],
      "execution_count": null,
      "outputs": []
    },
    {
      "cell_type": "code",
      "metadata": {
        "id": "2mSp8lGITSAd"
      },
      "source": [
        "parquet_train = pd.read_parquet(path_to_data + 'data_fusion_train.parquet')"
      ],
      "execution_count": null,
      "outputs": []
    },
    {
      "cell_type": "code",
      "metadata": {
        "colab": {
          "base_uri": "https://localhost:8080/",
          "height": 194
        },
        "id": "EYo_PR3_wsVy",
        "outputId": "f087e59c-bb0a-4e71-9e13-019698985b25"
      },
      "source": [
        "parquet_train.head(5)"
      ],
      "execution_count": null,
      "outputs": [
        {
          "output_type": "execute_result",
          "data": {
            "text/html": [
              "<div>\n",
              "<style scoped>\n",
              "    .dataframe tbody tr th:only-of-type {\n",
              "        vertical-align: middle;\n",
              "    }\n",
              "\n",
              "    .dataframe tbody tr th {\n",
              "        vertical-align: top;\n",
              "    }\n",
              "\n",
              "    .dataframe thead th {\n",
              "        text-align: right;\n",
              "    }\n",
              "</style>\n",
              "<table border=\"1\" class=\"dataframe\">\n",
              "  <thead>\n",
              "    <tr style=\"text-align: right;\">\n",
              "      <th></th>\n",
              "      <th>receipt_id</th>\n",
              "      <th>receipt_dayofweek</th>\n",
              "      <th>receipt_time</th>\n",
              "      <th>item_name</th>\n",
              "      <th>item_quantity</th>\n",
              "      <th>item_price</th>\n",
              "      <th>item_nds_rate</th>\n",
              "      <th>category_id</th>\n",
              "      <th>brands</th>\n",
              "    </tr>\n",
              "  </thead>\n",
              "  <tbody>\n",
              "    <tr>\n",
              "      <th>0</th>\n",
              "      <td>7</td>\n",
              "      <td>5</td>\n",
              "      <td>09:50</td>\n",
              "      <td>Флуконазол капс 150мг №1 Вертекс</td>\n",
              "      <td>1.0</td>\n",
              "      <td>7</td>\n",
              "      <td>-1</td>\n",
              "      <td>-1</td>\n",
              "      <td>вертекс</td>\n",
              "    </tr>\n",
              "    <tr>\n",
              "      <th>1</th>\n",
              "      <td>11</td>\n",
              "      <td>6</td>\n",
              "      <td>20:34</td>\n",
              "      <td>Молоко 3,2%,шт</td>\n",
              "      <td>2.0</td>\n",
              "      <td>8</td>\n",
              "      <td>2</td>\n",
              "      <td>78</td>\n",
              "      <td>None</td>\n",
              "    </tr>\n",
              "    <tr>\n",
              "      <th>2</th>\n",
              "      <td>39</td>\n",
              "      <td>4</td>\n",
              "      <td>11:28</td>\n",
              "      <td>Борщ Станичный с тушенкой, 103 ккал (завод, з/у)</td>\n",
              "      <td>1.0</td>\n",
              "      <td>6</td>\n",
              "      <td>1</td>\n",
              "      <td>-1</td>\n",
              "      <td>None</td>\n",
              "    </tr>\n",
              "    <tr>\n",
              "      <th>3</th>\n",
              "      <td>39</td>\n",
              "      <td>4</td>\n",
              "      <td>11:28</td>\n",
              "      <td>Компот из изюма, 114 ккал</td>\n",
              "      <td>1.0</td>\n",
              "      <td>4</td>\n",
              "      <td>1</td>\n",
              "      <td>71</td>\n",
              "      <td>None</td>\n",
              "    </tr>\n",
              "    <tr>\n",
              "      <th>4</th>\n",
              "      <td>39</td>\n",
              "      <td>4</td>\n",
              "      <td>11:28</td>\n",
              "      <td>Макаронные изделия отварные (масло сливочное),...</td>\n",
              "      <td>1.0</td>\n",
              "      <td>4</td>\n",
              "      <td>1</td>\n",
              "      <td>71</td>\n",
              "      <td>None</td>\n",
              "    </tr>\n",
              "  </tbody>\n",
              "</table>\n",
              "</div>"
            ],
            "text/plain": [
              "   receipt_id  receipt_dayofweek  ... category_id   brands\n",
              "0           7                  5  ...          -1  вертекс\n",
              "1          11                  6  ...          78     None\n",
              "2          39                  4  ...          -1     None\n",
              "3          39                  4  ...          71     None\n",
              "4          39                  4  ...          71     None\n",
              "\n",
              "[5 rows x 9 columns]"
            ]
          },
          "metadata": {
            "tags": []
          },
          "execution_count": 8
        }
      ]
    },
    {
      "cell_type": "code",
      "metadata": {
        "id": "rbGDsUt6N-7e"
      },
      "source": [
        "def custom_mode(x):\n",
        "  return x.value_counts().index[0]\n",
        "\n",
        "def check_is_int(x):\n",
        "  return x.mean() !=1"
      ],
      "execution_count": null,
      "outputs": []
    },
    {
      "cell_type": "code",
      "metadata": {
        "id": "e9fytaf3UCXD",
        "colab": {
          "base_uri": "https://localhost:8080/"
        },
        "outputId": "f7d6e462-03d2-435c-abb6-7d48706ff9e3"
      },
      "source": [
        "true_cheq = parquet_train[parquet_train[\"category_id\"]!=-1]['receipt_id'].unique()\n",
        "X_train_cheq = parquet_train[parquet_train[\"receipt_id\"].isin(true_cheq)]\n",
        "X_train_cheq[\"item_counts\"] = 1\n",
        "X_train_by_reciept = X_train_cheq.groupby(\"receipt_id\").agg({\n",
        "    \"item_quantity\": \"mean\",\n",
        "    \"item_price\": \"mean\",\n",
        "    \"item_counts\": \"sum\"\n",
        "    })"
      ],
      "execution_count": null,
      "outputs": [
        {
          "output_type": "stream",
          "text": [
            "/usr/local/lib/python3.7/dist-packages/ipykernel_launcher.py:3: SettingWithCopyWarning: \n",
            "A value is trying to be set on a copy of a slice from a DataFrame.\n",
            "Try using .loc[row_indexer,col_indexer] = value instead\n",
            "\n",
            "See the caveats in the documentation: https://pandas.pydata.org/pandas-docs/stable/user_guide/indexing.html#returning-a-view-versus-a-copy\n",
            "  This is separate from the ipykernel package so we can avoid doing imports until\n"
          ],
          "name": "stderr"
        }
      ]
    },
    {
      "cell_type": "code",
      "metadata": {
        "id": "n--Ih5bsUCZi"
      },
      "source": [
        "X_train_by_reciept[\"receipt_id\"] = X_train_by_reciept.index\n",
        "X_train_by_reciept.reset_index(drop=True, inplace=True)\n",
        "X_train_by_reciept.rename(columns={\"item_quantity\":\"mean_item_quantity\",\"item_price\":\"mean_item_price\",\t\"item_counts\":\"mean_item_counts\"},inplace=True)"
      ],
      "execution_count": null,
      "outputs": []
    },
    {
      "cell_type": "code",
      "metadata": {
        "colab": {
          "base_uri": "https://localhost:8080/"
        },
        "id": "hs2vp9WyYGvw",
        "outputId": "2c555b89-7408-45fe-a090-a1ebfd3a7466"
      },
      "source": [
        "X_train_by_reciept.shape"
      ],
      "execution_count": null,
      "outputs": [
        {
          "output_type": "execute_result",
          "data": {
            "text/plain": [
              "(3704041, 4)"
            ]
          },
          "metadata": {
            "tags": []
          },
          "execution_count": 12
        }
      ]
    },
    {
      "cell_type": "code",
      "metadata": {
        "id": "_jrra-xcAQua"
      },
      "source": [
        "X_train_base = parquet_train[parquet_train[\"category_id\"] != -1].reset_index(drop=True)"
      ],
      "execution_count": null,
      "outputs": []
    },
    {
      "cell_type": "code",
      "metadata": {
        "colab": {
          "base_uri": "https://localhost:8080/"
        },
        "id": "oFlHlMO4AQwt",
        "outputId": "071739d0-3e34-4a63-f97a-a35edf16eec8"
      },
      "source": [
        "X_train_base.info()"
      ],
      "execution_count": null,
      "outputs": [
        {
          "output_type": "stream",
          "text": [
            "<class 'pandas.core.frame.DataFrame'>\n",
            "RangeIndex: 6483226 entries, 0 to 6483225\n",
            "Data columns (total 9 columns):\n",
            " #   Column             Dtype  \n",
            "---  ------             -----  \n",
            " 0   receipt_id         int64  \n",
            " 1   receipt_dayofweek  int32  \n",
            " 2   receipt_time       object \n",
            " 3   item_name          object \n",
            " 4   item_quantity      float64\n",
            " 5   item_price         int64  \n",
            " 6   item_nds_rate      int32  \n",
            " 7   category_id        int64  \n",
            " 8   brands             object \n",
            "dtypes: float64(1), int32(2), int64(3), object(3)\n",
            "memory usage: 395.7+ MB\n"
          ],
          "name": "stdout"
        }
      ]
    },
    {
      "cell_type": "code",
      "metadata": {
        "id": "fJCTwd6UD-8j"
      },
      "source": [
        "def part_of_day(x):\n",
        "    if ((x > 23) or x>=0) and (x <= 7):\n",
        "        return 'night'\n",
        "    elif (x > 7) and (x <= 12):\n",
        "        return 'morning'\n",
        "    elif (x > 12) and (x <= 17):\n",
        "        return 'afternoon'\n",
        "    elif (x > 17) and (x <= 20) :\n",
        "        return 'evening'\n",
        "    elif (x > 20) and (x <= 23):\n",
        "        return 'late evening'\n"
      ],
      "execution_count": null,
      "outputs": []
    },
    {
      "cell_type": "code",
      "metadata": {
        "id": "mpx3syTPCBuP"
      },
      "source": [
        "X_train_base[\"day_of_part\"] = X_train_base[\"receipt_time\"].apply(lambda x: part_of_day(int(x[:2])))"
      ],
      "execution_count": null,
      "outputs": []
    },
    {
      "cell_type": "code",
      "metadata": {
        "id": "rcrdDdzZLdYP"
      },
      "source": [
        "def type_of_quan(x):\n",
        "  if(int(x) == x):\n",
        "    return True\n",
        "  return False"
      ],
      "execution_count": null,
      "outputs": []
    },
    {
      "cell_type": "code",
      "metadata": {
        "id": "Zsha_4zqLSQU"
      },
      "source": [
        "X_train_base[\"is_int_quanitity\"] =  X_train_base[\"item_quantity\"].apply(lambda x: type_of_quan(x))"
      ],
      "execution_count": null,
      "outputs": []
    },
    {
      "cell_type": "code",
      "metadata": {
        "id": "O9WKIz9fYoGh"
      },
      "source": [
        "X_train_base = X_train_base.merge(X_train_by_reciept, on=\"receipt_id\", how=\"left\")"
      ],
      "execution_count": null,
      "outputs": []
    },
    {
      "cell_type": "code",
      "metadata": {
        "colab": {
          "base_uri": "https://localhost:8080/",
          "height": 593
        },
        "id": "PdDWDnV7CBw3",
        "outputId": "30161fcc-2c58-48eb-8c6c-08ae29166876"
      },
      "source": [
        "X_train_base.head(7)"
      ],
      "execution_count": null,
      "outputs": [
        {
          "output_type": "execute_result",
          "data": {
            "text/html": [
              "<div>\n",
              "<style scoped>\n",
              "    .dataframe tbody tr th:only-of-type {\n",
              "        vertical-align: middle;\n",
              "    }\n",
              "\n",
              "    .dataframe tbody tr th {\n",
              "        vertical-align: top;\n",
              "    }\n",
              "\n",
              "    .dataframe thead th {\n",
              "        text-align: right;\n",
              "    }\n",
              "</style>\n",
              "<table border=\"1\" class=\"dataframe\">\n",
              "  <thead>\n",
              "    <tr style=\"text-align: right;\">\n",
              "      <th></th>\n",
              "      <th>receipt_id</th>\n",
              "      <th>receipt_dayofweek</th>\n",
              "      <th>receipt_time</th>\n",
              "      <th>item_name</th>\n",
              "      <th>item_quantity</th>\n",
              "      <th>item_price</th>\n",
              "      <th>item_nds_rate</th>\n",
              "      <th>category_id</th>\n",
              "      <th>brands</th>\n",
              "      <th>day_of_part</th>\n",
              "      <th>is_int_quanitity</th>\n",
              "      <th>mean_item_quantity</th>\n",
              "      <th>mean_item_price</th>\n",
              "      <th>mean_item_counts</th>\n",
              "    </tr>\n",
              "  </thead>\n",
              "  <tbody>\n",
              "    <tr>\n",
              "      <th>0</th>\n",
              "      <td>11</td>\n",
              "      <td>6</td>\n",
              "      <td>20:34</td>\n",
              "      <td>Молоко 3,2%,шт</td>\n",
              "      <td>2.0</td>\n",
              "      <td>8</td>\n",
              "      <td>2</td>\n",
              "      <td>78</td>\n",
              "      <td>None</td>\n",
              "      <td>evening</td>\n",
              "      <td>True</td>\n",
              "      <td>2.000000</td>\n",
              "      <td>8.000000</td>\n",
              "      <td>1</td>\n",
              "    </tr>\n",
              "    <tr>\n",
              "      <th>1</th>\n",
              "      <td>39</td>\n",
              "      <td>4</td>\n",
              "      <td>11:28</td>\n",
              "      <td>Компот из изюма, 114 ккал</td>\n",
              "      <td>1.0</td>\n",
              "      <td>4</td>\n",
              "      <td>1</td>\n",
              "      <td>71</td>\n",
              "      <td>None</td>\n",
              "      <td>morning</td>\n",
              "      <td>True</td>\n",
              "      <td>1.000000</td>\n",
              "      <td>5.250000</td>\n",
              "      <td>4</td>\n",
              "    </tr>\n",
              "    <tr>\n",
              "      <th>2</th>\n",
              "      <td>39</td>\n",
              "      <td>4</td>\n",
              "      <td>11:28</td>\n",
              "      <td>Макаронные изделия отварные (масло сливочное),...</td>\n",
              "      <td>1.0</td>\n",
              "      <td>4</td>\n",
              "      <td>1</td>\n",
              "      <td>71</td>\n",
              "      <td>None</td>\n",
              "      <td>morning</td>\n",
              "      <td>True</td>\n",
              "      <td>1.000000</td>\n",
              "      <td>5.250000</td>\n",
              "      <td>4</td>\n",
              "    </tr>\n",
              "    <tr>\n",
              "      <th>3</th>\n",
              "      <td>56</td>\n",
              "      <td>5</td>\n",
              "      <td>11:42</td>\n",
              "      <td>Кофе Капучино Большой Эден 18</td>\n",
              "      <td>1.0</td>\n",
              "      <td>12</td>\n",
              "      <td>1</td>\n",
              "      <td>70</td>\n",
              "      <td>None</td>\n",
              "      <td>morning</td>\n",
              "      <td>True</td>\n",
              "      <td>1.000000</td>\n",
              "      <td>11.000000</td>\n",
              "      <td>2</td>\n",
              "    </tr>\n",
              "    <tr>\n",
              "      <th>4</th>\n",
              "      <td>105</td>\n",
              "      <td>3</td>\n",
              "      <td>01:53</td>\n",
              "      <td>Хлеб на СЫВОРОТКЕ 350г</td>\n",
              "      <td>1.0</td>\n",
              "      <td>7</td>\n",
              "      <td>-1</td>\n",
              "      <td>84</td>\n",
              "      <td>None</td>\n",
              "      <td>night</td>\n",
              "      <td>True</td>\n",
              "      <td>1.000000</td>\n",
              "      <td>7.000000</td>\n",
              "      <td>1</td>\n",
              "    </tr>\n",
              "    <tr>\n",
              "      <th>5</th>\n",
              "      <td>122</td>\n",
              "      <td>0</td>\n",
              "      <td>11:46</td>\n",
              "      <td>Сосиска в тесте с сыром 1шт ГЕ</td>\n",
              "      <td>3.0</td>\n",
              "      <td>7</td>\n",
              "      <td>2</td>\n",
              "      <td>84</td>\n",
              "      <td>None</td>\n",
              "      <td>morning</td>\n",
              "      <td>True</td>\n",
              "      <td>1.562364</td>\n",
              "      <td>8.818182</td>\n",
              "      <td>11</td>\n",
              "    </tr>\n",
              "    <tr>\n",
              "      <th>6</th>\n",
              "      <td>129</td>\n",
              "      <td>3</td>\n",
              "      <td>15:17</td>\n",
              "      <td>ЛанчБаскет 5 за 300: 2 шт ОРИГ Стрипсы кур фил</td>\n",
              "      <td>1.0</td>\n",
              "      <td>8</td>\n",
              "      <td>2</td>\n",
              "      <td>69</td>\n",
              "      <td>None</td>\n",
              "      <td>afternoon</td>\n",
              "      <td>True</td>\n",
              "      <td>1.166667</td>\n",
              "      <td>8.166667</td>\n",
              "      <td>6</td>\n",
              "    </tr>\n",
              "  </tbody>\n",
              "</table>\n",
              "</div>"
            ],
            "text/plain": [
              "   receipt_id  receipt_dayofweek  ... mean_item_price mean_item_counts\n",
              "0          11                  6  ...        8.000000                1\n",
              "1          39                  4  ...        5.250000                4\n",
              "2          39                  4  ...        5.250000                4\n",
              "3          56                  5  ...       11.000000                2\n",
              "4         105                  3  ...        7.000000                1\n",
              "5         122                  0  ...        8.818182               11\n",
              "6         129                  3  ...        8.166667                6\n",
              "\n",
              "[7 rows x 14 columns]"
            ]
          },
          "metadata": {
            "tags": []
          },
          "execution_count": 20
        }
      ]
    },
    {
      "cell_type": "code",
      "metadata": {
        "id": "w5vRXFTNBUDD"
      },
      "source": [
        "X_train_agg = X_train_base.groupby(\"item_name\").agg({\n",
        "    \"receipt_dayofweek\":custom_mode,\n",
        "    \"item_quantity\":\"mean\",\n",
        "    \"item_price\":\"mean\",\n",
        "    \"item_nds_rate\":custom_mode,\n",
        "    \"day_of_part\":custom_mode,\n",
        "    \"is_int_quanitity\": check_is_int,\n",
        "    \"mean_item_quantity\": \"mean\",\n",
        "    \"mean_item_price\": \"mean\",\n",
        "    \"mean_item_counts\": \"mean\",\n",
        "    \"category_id\":custom_mode\n",
        "    })"
      ],
      "execution_count": null,
      "outputs": []
    },
    {
      "cell_type": "code",
      "metadata": {
        "id": "GGiGM3nDOV3D"
      },
      "source": [
        "X_train_agg[\"item_name\"] = X_train_agg.index\n",
        "X_train_agg.reset_index(drop=True, inplace=True)"
      ],
      "execution_count": null,
      "outputs": []
    },
    {
      "cell_type": "code",
      "metadata": {
        "colab": {
          "base_uri": "https://localhost:8080/"
        },
        "id": "pwUZmWOc0Hpl",
        "outputId": "71a12735-9640-40f5-cde8-09f289a9104e"
      },
      "source": [
        "X_train_agg.shape"
      ],
      "execution_count": null,
      "outputs": [
        {
          "output_type": "execute_result",
          "data": {
            "text/plain": [
              "(48225, 11)"
            ]
          },
          "metadata": {
            "tags": []
          },
          "execution_count": 23
        }
      ]
    },
    {
      "cell_type": "code",
      "metadata": {
        "colab": {
          "base_uri": "https://localhost:8080/",
          "height": 172
        },
        "id": "Ujy6WB0vPrxd",
        "outputId": "a95fa6cc-f825-42a6-d7bd-9c07211ffba3"
      },
      "source": [
        "X_train_agg.head(3)"
      ],
      "execution_count": null,
      "outputs": [
        {
          "output_type": "execute_result",
          "data": {
            "text/html": [
              "<div>\n",
              "<style scoped>\n",
              "    .dataframe tbody tr th:only-of-type {\n",
              "        vertical-align: middle;\n",
              "    }\n",
              "\n",
              "    .dataframe tbody tr th {\n",
              "        vertical-align: top;\n",
              "    }\n",
              "\n",
              "    .dataframe thead th {\n",
              "        text-align: right;\n",
              "    }\n",
              "</style>\n",
              "<table border=\"1\" class=\"dataframe\">\n",
              "  <thead>\n",
              "    <tr style=\"text-align: right;\">\n",
              "      <th></th>\n",
              "      <th>receipt_dayofweek</th>\n",
              "      <th>item_quantity</th>\n",
              "      <th>item_price</th>\n",
              "      <th>item_nds_rate</th>\n",
              "      <th>day_of_part</th>\n",
              "      <th>is_int_quanitity</th>\n",
              "      <th>mean_item_quantity</th>\n",
              "      <th>mean_item_price</th>\n",
              "      <th>mean_item_counts</th>\n",
              "      <th>category_id</th>\n",
              "      <th>item_name</th>\n",
              "    </tr>\n",
              "  </thead>\n",
              "  <tbody>\n",
              "    <tr>\n",
              "      <th>0</th>\n",
              "      <td>4</td>\n",
              "      <td>0.702276</td>\n",
              "      <td>11.775862</td>\n",
              "      <td>6</td>\n",
              "      <td>afternoon</td>\n",
              "      <td>True</td>\n",
              "      <td>1.005162</td>\n",
              "      <td>10.519226</td>\n",
              "      <td>4.137931</td>\n",
              "      <td>84</td>\n",
              "      <td></td>\n",
              "    </tr>\n",
              "    <tr>\n",
              "      <th>1</th>\n",
              "      <td>6</td>\n",
              "      <td>2.375333</td>\n",
              "      <td>5.333333</td>\n",
              "      <td>5</td>\n",
              "      <td>afternoon</td>\n",
              "      <td>True</td>\n",
              "      <td>1.376065</td>\n",
              "      <td>7.561111</td>\n",
              "      <td>5.166667</td>\n",
              "      <td>80</td>\n",
              "      <td>КАРТОФЕЛЬ ВЕС</td>\n",
              "    </tr>\n",
              "    <tr>\n",
              "      <th>2</th>\n",
              "      <td>6</td>\n",
              "      <td>1.637363</td>\n",
              "      <td>9.000000</td>\n",
              "      <td>1</td>\n",
              "      <td>afternoon</td>\n",
              "      <td>False</td>\n",
              "      <td>1.398866</td>\n",
              "      <td>7.828059</td>\n",
              "      <td>5.318681</td>\n",
              "      <td>130</td>\n",
              "      <td>МИСКА</td>\n",
              "    </tr>\n",
              "  </tbody>\n",
              "</table>\n",
              "</div>"
            ],
            "text/plain": [
              "   receipt_dayofweek  ...                                      item_name\n",
              "0                  4  ...                                               \n",
              "1                  6  ...                                  КАРТОФЕЛЬ ВЕС\n",
              "2                  6  ...                                          МИСКА\n",
              "\n",
              "[3 rows x 11 columns]"
            ]
          },
          "metadata": {
            "tags": []
          },
          "execution_count": 24
        }
      ]
    },
    {
      "cell_type": "code",
      "metadata": {
        "id": "WYho6m1JxVMY"
      },
      "source": [
        "X_train_marked, X_test_marked = train_test_split(X_train_agg, test_size=8000, stratify=X_train_agg[\"category_id\"], random_state=1)"
      ],
      "execution_count": null,
      "outputs": []
    },
    {
      "cell_type": "code",
      "metadata": {
        "id": "B4vmukPN0LXA"
      },
      "source": [
        "X_train_marked.to_parquet(path_to_data + \"new_data_20_03/\" + \"marked_train_agg.parquet\", engine=\"fastparquet\", compression=\"gzip\")\n",
        "X_test_marked.to_parquet(path_to_data + \"new_data_20_03/\" + \"marked_test_agg.parquet\", engine=\"fastparquet\", compression=\"gzip\")"
      ],
      "execution_count": null,
      "outputs": []
    },
    {
      "cell_type": "markdown",
      "metadata": {
        "id": "0CG4QGX11j-V"
      },
      "source": [
        "## Непосредственно доразметка"
      ]
    },
    {
      "cell_type": "code",
      "metadata": {
        "id": "BiyY4sj8YzYR"
      },
      "source": [
        "tfidf = TfidfVectorizer(stop_words=stop_russian_words, max_features=120000, ngram_range=(1,5), analyzer=\"char_wb\")\n",
        "X_train_tfidf = tfidf.fit_transform(X_train_marked[\"item_name\"])"
      ],
      "execution_count": null,
      "outputs": []
    },
    {
      "cell_type": "code",
      "metadata": {
        "colab": {
          "base_uri": "https://localhost:8080/"
        },
        "id": "OZ2pPWs_qNUR",
        "outputId": "e7340953-a108-451e-b068-44f7e02c233d"
      },
      "source": [
        "X_train_tfidf"
      ],
      "execution_count": null,
      "outputs": [
        {
          "output_type": "execute_result",
          "data": {
            "text/plain": [
              "<40225x120000 sparse matrix of type '<class 'numpy.float64'>'\n",
              "\twith 4299339 stored elements in Compressed Sparse Row format>"
            ]
          },
          "metadata": {
            "tags": []
          },
          "execution_count": 29
        }
      ]
    },
    {
      "cell_type": "code",
      "metadata": {
        "colab": {
          "base_uri": "https://localhost:8080/"
        },
        "id": "nTuLI0Aq1ssB",
        "outputId": "8aead7e5-2073-43e8-834d-8c3aef8b603b"
      },
      "source": [
        "params = {\n",
        "      \"max_iter\" : 2000, \n",
        "      \"penalty\" : \"l2\",\n",
        "      \"C\" : 1.15,\n",
        "      \"tol\" : 1e-7,\n",
        "      \"random_state\" : 42,\n",
        "}\n",
        "\n",
        "model = LinearSVC(**params)\n",
        "\n",
        "model = CalibratedClassifierCV(model)\n",
        "model.fit(X_train_tfidf, X_train_marked[\"category_id\"])"
      ],
      "execution_count": null,
      "outputs": [
        {
          "output_type": "execute_result",
          "data": {
            "text/plain": [
              "CalibratedClassifierCV(base_estimator=LinearSVC(C=1.15, class_weight=None,\n",
              "                                                dual=True, fit_intercept=True,\n",
              "                                                intercept_scaling=1,\n",
              "                                                loss='squared_hinge',\n",
              "                                                max_iter=2000,\n",
              "                                                multi_class='ovr', penalty='l2',\n",
              "                                                random_state=42, tol=1e-07,\n",
              "                                                verbose=0),\n",
              "                       cv=None, method='sigmoid')"
            ]
          },
          "metadata": {
            "tags": []
          },
          "execution_count": 30
        }
      ]
    },
    {
      "cell_type": "code",
      "metadata": {
        "colab": {
          "base_uri": "https://localhost:8080/"
        },
        "id": "bmQpjKkE1_2Z",
        "outputId": "fc47b2ee-7011-4849-c0ec-47f8e8ce6e3b"
      },
      "source": [
        "f1_score(model.predict(tfidf.transform(X_test_marked[\"item_name\"])), X_test_marked[\"category_id\"], average=\"weighted\")"
      ],
      "execution_count": null,
      "outputs": [
        {
          "output_type": "execute_result",
          "data": {
            "text/plain": [
              "0.8469366334321011"
            ]
          },
          "metadata": {
            "tags": []
          },
          "execution_count": 31
        }
      ]
    },
    {
      "cell_type": "code",
      "metadata": {
        "id": "e5RYTZV42eyW"
      },
      "source": [
        "parquet_train_not_marked = parquet_train[parquet_train[\"category_id\"]==-1]"
      ],
      "execution_count": null,
      "outputs": []
    },
    {
      "cell_type": "code",
      "metadata": {
        "colab": {
          "base_uri": "https://localhost:8080/"
        },
        "id": "bh_8HuqN3KAo",
        "outputId": "1cf15f07-38d1-47a6-860a-e265b44f4743"
      },
      "source": [
        "parquet_train_not_marked.shape"
      ],
      "execution_count": null,
      "outputs": [
        {
          "output_type": "execute_result",
          "data": {
            "text/plain": [
              "(19610851, 9)"
            ]
          },
          "metadata": {
            "tags": []
          },
          "execution_count": 33
        }
      ]
    },
    {
      "cell_type": "code",
      "metadata": {
        "id": "GC5XB3W_3c19"
      },
      "source": [
        "X_train_not_marked_no_dc = parquet_train_not_marked.drop_duplicates(\"item_name\")"
      ],
      "execution_count": null,
      "outputs": []
    },
    {
      "cell_type": "code",
      "metadata": {
        "colab": {
          "base_uri": "https://localhost:8080/"
        },
        "id": "O-9023fP3krl",
        "outputId": "690e703a-a79c-4ee5-bb13-d90cc284bbbd"
      },
      "source": [
        "X_train_not_marked_no_dc.shape"
      ],
      "execution_count": null,
      "outputs": [
        {
          "output_type": "execute_result",
          "data": {
            "text/plain": [
              "(3107502, 9)"
            ]
          },
          "metadata": {
            "tags": []
          },
          "execution_count": 35
        }
      ]
    },
    {
      "cell_type": "code",
      "metadata": {
        "id": "OMycH9a93Pg1"
      },
      "source": [
        "y_pred = np.zeros(X_train_not_marked_no_dc.shape[0])\n",
        "y_prob = np.zeros(X_train_not_marked_no_dc.shape[0])"
      ],
      "execution_count": null,
      "outputs": []
    },
    {
      "cell_type": "code",
      "metadata": {
        "colab": {
          "base_uri": "https://localhost:8080/",
          "height": 120,
          "referenced_widgets": [
            "6f30ba69beed47c3a64881a759d9730c",
            "de719af7b9ba47ba8d0634f97e0253bf",
            "3239c942c44f40428e2708bb632fa25b",
            "48f5f6d628d14b5fa3a5f8af283e5c09",
            "74ec1dcdf5cd4394bcb2133b4466b5c4",
            "2e2c73a6a5f54091af40873cefd9e9a1",
            "0c264da35cf9471a8efd1a2610aa16ed",
            "7e6f4af66ba9403bbf8af39c541884c0"
          ]
        },
        "id": "Wbth10XV3pm4",
        "outputId": "9c1a36b4-eaed-435c-ada3-8c45d0b857f9"
      },
      "source": [
        "from tqdm import tqdm_notebook\n",
        "batch_ind  = np.array_split(np.arange(X_train_not_marked_no_dc.shape[0]), 30)\n",
        "\n",
        "for i in tqdm_notebook(range(30)):\n",
        "  tmp_tfidf = tfidf.transform(X_train_not_marked_no_dc[\"item_name\"].iloc[batch_ind[i]])\n",
        "  y_pred[batch_ind[i]] = model.predict(tmp_tfidf)\n",
        "  y_prob[batch_ind[i]] = np.max(model.predict_proba(tmp_tfidf), axis=1)"
      ],
      "execution_count": null,
      "outputs": [
        {
          "output_type": "stream",
          "text": [
            "/usr/local/lib/python3.7/dist-packages/ipykernel_launcher.py:4: TqdmDeprecationWarning: This function will be removed in tqdm==5.0.0\n",
            "Please use `tqdm.notebook.tqdm` instead of `tqdm.tqdm_notebook`\n",
            "  after removing the cwd from sys.path.\n"
          ],
          "name": "stderr"
        },
        {
          "output_type": "display_data",
          "data": {
            "application/vnd.jupyter.widget-view+json": {
              "model_id": "6f30ba69beed47c3a64881a759d9730c",
              "version_minor": 0,
              "version_major": 2
            },
            "text/plain": [
              "HBox(children=(FloatProgress(value=0.0, max=30.0), HTML(value='')))"
            ]
          },
          "metadata": {
            "tags": []
          }
        },
        {
          "output_type": "stream",
          "text": [
            "\n"
          ],
          "name": "stdout"
        }
      ]
    },
    {
      "cell_type": "code",
      "metadata": {
        "colab": {
          "base_uri": "https://localhost:8080/"
        },
        "id": "Hd_zN2v_8aj-",
        "outputId": "8c38b016-6d2c-4a8a-d90d-c11f3dbc2edd"
      },
      "source": [
        "X_train_not_marked_no_dc[\"category_id\"] = y_pred.astype(\"int\")\n",
        "X_train_not_marked_no_dc[\"category_id_prob\"] = y_prob"
      ],
      "execution_count": null,
      "outputs": [
        {
          "output_type": "stream",
          "text": [
            "/usr/local/lib/python3.7/dist-packages/ipykernel_launcher.py:1: SettingWithCopyWarning: \n",
            "A value is trying to be set on a copy of a slice from a DataFrame.\n",
            "Try using .loc[row_indexer,col_indexer] = value instead\n",
            "\n",
            "See the caveats in the documentation: https://pandas.pydata.org/pandas-docs/stable/user_guide/indexing.html#returning-a-view-versus-a-copy\n",
            "  \"\"\"Entry point for launching an IPython kernel.\n",
            "/usr/local/lib/python3.7/dist-packages/ipykernel_launcher.py:2: SettingWithCopyWarning: \n",
            "A value is trying to be set on a copy of a slice from a DataFrame.\n",
            "Try using .loc[row_indexer,col_indexer] = value instead\n",
            "\n",
            "See the caveats in the documentation: https://pandas.pydata.org/pandas-docs/stable/user_guide/indexing.html#returning-a-view-versus-a-copy\n",
            "  \n"
          ],
          "name": "stderr"
        }
      ]
    },
    {
      "cell_type": "code",
      "metadata": {
        "colab": {
          "base_uri": "https://localhost:8080/",
          "height": 244
        },
        "id": "GtXdVXc1_d6d",
        "outputId": "2af86386-e673-488c-b327-3b62172ae8fe"
      },
      "source": [
        "X_train_not_marked_no_dc.head(5)"
      ],
      "execution_count": null,
      "outputs": [
        {
          "output_type": "execute_result",
          "data": {
            "text/html": [
              "<div>\n",
              "<style scoped>\n",
              "    .dataframe tbody tr th:only-of-type {\n",
              "        vertical-align: middle;\n",
              "    }\n",
              "\n",
              "    .dataframe tbody tr th {\n",
              "        vertical-align: top;\n",
              "    }\n",
              "\n",
              "    .dataframe thead th {\n",
              "        text-align: right;\n",
              "    }\n",
              "</style>\n",
              "<table border=\"1\" class=\"dataframe\">\n",
              "  <thead>\n",
              "    <tr style=\"text-align: right;\">\n",
              "      <th></th>\n",
              "      <th>receipt_id</th>\n",
              "      <th>receipt_dayofweek</th>\n",
              "      <th>receipt_time</th>\n",
              "      <th>item_name</th>\n",
              "      <th>item_quantity</th>\n",
              "      <th>item_price</th>\n",
              "      <th>item_nds_rate</th>\n",
              "      <th>category_id</th>\n",
              "      <th>brands</th>\n",
              "      <th>category_id_prob</th>\n",
              "    </tr>\n",
              "  </thead>\n",
              "  <tbody>\n",
              "    <tr>\n",
              "      <th>0</th>\n",
              "      <td>7</td>\n",
              "      <td>5</td>\n",
              "      <td>09:50</td>\n",
              "      <td>Флуконазол капс 150мг №1 Вертекс</td>\n",
              "      <td>1.0</td>\n",
              "      <td>7</td>\n",
              "      <td>-1</td>\n",
              "      <td>38</td>\n",
              "      <td>вертекс</td>\n",
              "      <td>0.913344</td>\n",
              "    </tr>\n",
              "    <tr>\n",
              "      <th>2</th>\n",
              "      <td>39</td>\n",
              "      <td>4</td>\n",
              "      <td>11:28</td>\n",
              "      <td>Борщ Станичный с тушенкой, 103 ккал (завод, з/у)</td>\n",
              "      <td>1.0</td>\n",
              "      <td>6</td>\n",
              "      <td>1</td>\n",
              "      <td>71</td>\n",
              "      <td>None</td>\n",
              "      <td>0.901981</td>\n",
              "    </tr>\n",
              "    <tr>\n",
              "      <th>6</th>\n",
              "      <td>39</td>\n",
              "      <td>4</td>\n",
              "      <td>11:28</td>\n",
              "      <td>Филе Горизонт (филе птицы), 218 ккал</td>\n",
              "      <td>1.0</td>\n",
              "      <td>7</td>\n",
              "      <td>1</td>\n",
              "      <td>71</td>\n",
              "      <td>горизонт</td>\n",
              "      <td>0.835711</td>\n",
              "    </tr>\n",
              "    <tr>\n",
              "      <th>10</th>\n",
              "      <td>49</td>\n",
              "      <td>3</td>\n",
              "      <td>14:27</td>\n",
              "      <td>3  Бумага Упак 1/Прочи/В асс</td>\n",
              "      <td>1.0</td>\n",
              "      <td>8</td>\n",
              "      <td>1</td>\n",
              "      <td>40</td>\n",
              "      <td>None</td>\n",
              "      <td>0.520318</td>\n",
              "    </tr>\n",
              "    <tr>\n",
              "      <th>11</th>\n",
              "      <td>49</td>\n",
              "      <td>3</td>\n",
              "      <td>14:27</td>\n",
              "      <td>4  Бумага Упак 1/Прочи/В асс</td>\n",
              "      <td>1.0</td>\n",
              "      <td>8</td>\n",
              "      <td>1</td>\n",
              "      <td>40</td>\n",
              "      <td>None</td>\n",
              "      <td>0.505733</td>\n",
              "    </tr>\n",
              "  </tbody>\n",
              "</table>\n",
              "</div>"
            ],
            "text/plain": [
              "    receipt_id  receipt_dayofweek  ...    brands category_id_prob\n",
              "0            7                  5  ...   вертекс         0.913344\n",
              "2           39                  4  ...      None         0.901981\n",
              "6           39                  4  ...  горизонт         0.835711\n",
              "10          49                  3  ...      None         0.520318\n",
              "11          49                  3  ...      None         0.505733\n",
              "\n",
              "[5 rows x 10 columns]"
            ]
          },
          "metadata": {
            "tags": []
          },
          "execution_count": 40
        }
      ]
    },
    {
      "cell_type": "code",
      "metadata": {
        "colab": {
          "base_uri": "https://localhost:8080/"
        },
        "id": "S8U2fAfw79Hr",
        "outputId": "8ebdada5-4020-4922-aa72-d572ed0dd339"
      },
      "source": [
        "parquet_train_not_marked.drop(columns = \"category_id\", inplace=True)"
      ],
      "execution_count": null,
      "outputs": [
        {
          "output_type": "stream",
          "text": [
            "/usr/local/lib/python3.7/dist-packages/pandas/core/frame.py:4174: SettingWithCopyWarning: \n",
            "A value is trying to be set on a copy of a slice from a DataFrame\n",
            "\n",
            "See the caveats in the documentation: https://pandas.pydata.org/pandas-docs/stable/user_guide/indexing.html#returning-a-view-versus-a-copy\n",
            "  errors=errors,\n"
          ],
          "name": "stderr"
        }
      ]
    },
    {
      "cell_type": "code",
      "metadata": {
        "id": "Gb-gsi2Y8TfB"
      },
      "source": [
        "train_not_marked_merged = parquet_train_not_marked.merge(X_train_not_marked_no_dc[[\"item_name\", \"category_id\", \"category_id_prob\"]], on=\"item_name\")"
      ],
      "execution_count": null,
      "outputs": []
    },
    {
      "cell_type": "code",
      "metadata": {
        "colab": {
          "base_uri": "https://localhost:8080/",
          "height": 232
        },
        "id": "oRJkdoZmC_Te",
        "outputId": "6e833120-2382-4cc5-b070-20ae9ad46a91"
      },
      "source": [
        "train_not_marked_merged.head(4)"
      ],
      "execution_count": null,
      "outputs": [
        {
          "output_type": "execute_result",
          "data": {
            "text/html": [
              "<div>\n",
              "<style scoped>\n",
              "    .dataframe tbody tr th:only-of-type {\n",
              "        vertical-align: middle;\n",
              "    }\n",
              "\n",
              "    .dataframe tbody tr th {\n",
              "        vertical-align: top;\n",
              "    }\n",
              "\n",
              "    .dataframe thead th {\n",
              "        text-align: right;\n",
              "    }\n",
              "</style>\n",
              "<table border=\"1\" class=\"dataframe\">\n",
              "  <thead>\n",
              "    <tr style=\"text-align: right;\">\n",
              "      <th></th>\n",
              "      <th>receipt_id</th>\n",
              "      <th>receipt_dayofweek</th>\n",
              "      <th>receipt_time</th>\n",
              "      <th>item_name</th>\n",
              "      <th>item_quantity</th>\n",
              "      <th>item_price</th>\n",
              "      <th>item_nds_rate</th>\n",
              "      <th>brands</th>\n",
              "      <th>category_id</th>\n",
              "      <th>category_id_prob</th>\n",
              "    </tr>\n",
              "  </thead>\n",
              "  <tbody>\n",
              "    <tr>\n",
              "      <th>0</th>\n",
              "      <td>7</td>\n",
              "      <td>5</td>\n",
              "      <td>09:50</td>\n",
              "      <td>Флуконазол капс 150мг №1 Вертекс</td>\n",
              "      <td>1.0</td>\n",
              "      <td>7</td>\n",
              "      <td>-1</td>\n",
              "      <td>вертекс</td>\n",
              "      <td>38</td>\n",
              "      <td>0.913344</td>\n",
              "    </tr>\n",
              "    <tr>\n",
              "      <th>1</th>\n",
              "      <td>249953</td>\n",
              "      <td>0</td>\n",
              "      <td>20:29</td>\n",
              "      <td>Флуконазол капс 150мг №1 Вертекс</td>\n",
              "      <td>1.0</td>\n",
              "      <td>7</td>\n",
              "      <td>-1</td>\n",
              "      <td>вертекс</td>\n",
              "      <td>38</td>\n",
              "      <td>0.913344</td>\n",
              "    </tr>\n",
              "    <tr>\n",
              "      <th>2</th>\n",
              "      <td>5859963</td>\n",
              "      <td>3</td>\n",
              "      <td>08:11</td>\n",
              "      <td>Флуконазол капс 150мг №1 Вертекс</td>\n",
              "      <td>1.0</td>\n",
              "      <td>7</td>\n",
              "      <td>-1</td>\n",
              "      <td>вертекс</td>\n",
              "      <td>38</td>\n",
              "      <td>0.913344</td>\n",
              "    </tr>\n",
              "    <tr>\n",
              "      <th>3</th>\n",
              "      <td>1513988</td>\n",
              "      <td>5</td>\n",
              "      <td>08:48</td>\n",
              "      <td>Флуконазол капс 150мг №1 Вертекс</td>\n",
              "      <td>1.0</td>\n",
              "      <td>7</td>\n",
              "      <td>-1</td>\n",
              "      <td>вертекс</td>\n",
              "      <td>38</td>\n",
              "      <td>0.913344</td>\n",
              "    </tr>\n",
              "  </tbody>\n",
              "</table>\n",
              "</div>"
            ],
            "text/plain": [
              "   receipt_id  receipt_dayofweek  ... category_id category_id_prob\n",
              "0           7                  5  ...          38         0.913344\n",
              "1      249953                  0  ...          38         0.913344\n",
              "2     5859963                  3  ...          38         0.913344\n",
              "3     1513988                  5  ...          38         0.913344\n",
              "\n",
              "[4 rows x 10 columns]"
            ]
          },
          "metadata": {
            "tags": []
          },
          "execution_count": 43
        }
      ]
    },
    {
      "cell_type": "code",
      "metadata": {
        "id": "dpsSLSybMkjn"
      },
      "source": [
        "train_not_marked_merged.to_parquet(path_to_data + \"new_data_20_03/\" + \"not_marked_train.parquet\", engine=\"fastparquet\", compression=\"gzip\")"
      ],
      "execution_count": null,
      "outputs": []
    },
    {
      "cell_type": "code",
      "metadata": {
        "id": "bzTjHCHa9CKb"
      },
      "source": [
        "parquet_train_marked = parquet_train[parquet_train[\"category_id\"]!=-1]"
      ],
      "execution_count": null,
      "outputs": []
    },
    {
      "cell_type": "code",
      "metadata": {
        "colab": {
          "base_uri": "https://localhost:8080/"
        },
        "id": "PJnMb7DD8tuQ",
        "outputId": "b16d79eb-f0a9-448e-d222-61f7a8213b06"
      },
      "source": [
        "cat_id_marked = parquet_train_marked[\"category_id\"]\n",
        "parquet_train_marked.drop(columns=\"category_id\", inplace=True)"
      ],
      "execution_count": null,
      "outputs": [
        {
          "output_type": "stream",
          "text": [
            "/usr/local/lib/python3.7/dist-packages/pandas/core/frame.py:4174: SettingWithCopyWarning: \n",
            "A value is trying to be set on a copy of a slice from a DataFrame\n",
            "\n",
            "See the caveats in the documentation: https://pandas.pydata.org/pandas-docs/stable/user_guide/indexing.html#returning-a-view-versus-a-copy\n",
            "  errors=errors,\n"
          ],
          "name": "stderr"
        }
      ]
    },
    {
      "cell_type": "code",
      "metadata": {
        "colab": {
          "base_uri": "https://localhost:8080/"
        },
        "id": "0LLnW5Yn9MEU",
        "outputId": "be15c115-ab58-499d-f817-1451236c4086"
      },
      "source": [
        "parquet_train_marked[\"category_id\"] = cat_id_marked\n",
        "parquet_train_marked[\"category_id_prob\"] = 1.0"
      ],
      "execution_count": null,
      "outputs": [
        {
          "output_type": "stream",
          "text": [
            "/usr/local/lib/python3.7/dist-packages/ipykernel_launcher.py:1: SettingWithCopyWarning: \n",
            "A value is trying to be set on a copy of a slice from a DataFrame.\n",
            "Try using .loc[row_indexer,col_indexer] = value instead\n",
            "\n",
            "See the caveats in the documentation: https://pandas.pydata.org/pandas-docs/stable/user_guide/indexing.html#returning-a-view-versus-a-copy\n",
            "  \"\"\"Entry point for launching an IPython kernel.\n",
            "/usr/local/lib/python3.7/dist-packages/ipykernel_launcher.py:2: SettingWithCopyWarning: \n",
            "A value is trying to be set on a copy of a slice from a DataFrame.\n",
            "Try using .loc[row_indexer,col_indexer] = value instead\n",
            "\n",
            "See the caveats in the documentation: https://pandas.pydata.org/pandas-docs/stable/user_guide/indexing.html#returning-a-view-versus-a-copy\n",
            "  \n"
          ],
          "name": "stderr"
        }
      ]
    },
    {
      "cell_type": "code",
      "metadata": {
        "colab": {
          "base_uri": "https://localhost:8080/",
          "height": 244
        },
        "id": "VSo9-TkFMRQU",
        "outputId": "4dbb736b-22d7-4e9d-f327-f5b300effb7a"
      },
      "source": [
        "parquet_train_marked.head(5)"
      ],
      "execution_count": null,
      "outputs": [
        {
          "output_type": "execute_result",
          "data": {
            "text/html": [
              "<div>\n",
              "<style scoped>\n",
              "    .dataframe tbody tr th:only-of-type {\n",
              "        vertical-align: middle;\n",
              "    }\n",
              "\n",
              "    .dataframe tbody tr th {\n",
              "        vertical-align: top;\n",
              "    }\n",
              "\n",
              "    .dataframe thead th {\n",
              "        text-align: right;\n",
              "    }\n",
              "</style>\n",
              "<table border=\"1\" class=\"dataframe\">\n",
              "  <thead>\n",
              "    <tr style=\"text-align: right;\">\n",
              "      <th></th>\n",
              "      <th>receipt_id</th>\n",
              "      <th>receipt_dayofweek</th>\n",
              "      <th>receipt_time</th>\n",
              "      <th>item_name</th>\n",
              "      <th>item_quantity</th>\n",
              "      <th>item_price</th>\n",
              "      <th>item_nds_rate</th>\n",
              "      <th>brands</th>\n",
              "      <th>category_id</th>\n",
              "      <th>category_id_prob</th>\n",
              "    </tr>\n",
              "  </thead>\n",
              "  <tbody>\n",
              "    <tr>\n",
              "      <th>1</th>\n",
              "      <td>11</td>\n",
              "      <td>6</td>\n",
              "      <td>20:34</td>\n",
              "      <td>Молоко 3,2%,шт</td>\n",
              "      <td>2.0</td>\n",
              "      <td>8</td>\n",
              "      <td>2</td>\n",
              "      <td>None</td>\n",
              "      <td>78</td>\n",
              "      <td>1.0</td>\n",
              "    </tr>\n",
              "    <tr>\n",
              "      <th>3</th>\n",
              "      <td>39</td>\n",
              "      <td>4</td>\n",
              "      <td>11:28</td>\n",
              "      <td>Компот из изюма, 114 ккал</td>\n",
              "      <td>1.0</td>\n",
              "      <td>4</td>\n",
              "      <td>1</td>\n",
              "      <td>None</td>\n",
              "      <td>71</td>\n",
              "      <td>1.0</td>\n",
              "    </tr>\n",
              "    <tr>\n",
              "      <th>4</th>\n",
              "      <td>39</td>\n",
              "      <td>4</td>\n",
              "      <td>11:28</td>\n",
              "      <td>Макаронные изделия отварные (масло сливочное),...</td>\n",
              "      <td>1.0</td>\n",
              "      <td>4</td>\n",
              "      <td>1</td>\n",
              "      <td>None</td>\n",
              "      <td>71</td>\n",
              "      <td>1.0</td>\n",
              "    </tr>\n",
              "    <tr>\n",
              "      <th>17</th>\n",
              "      <td>56</td>\n",
              "      <td>5</td>\n",
              "      <td>11:42</td>\n",
              "      <td>Кофе Капучино Большой Эден 18</td>\n",
              "      <td>1.0</td>\n",
              "      <td>12</td>\n",
              "      <td>1</td>\n",
              "      <td>None</td>\n",
              "      <td>70</td>\n",
              "      <td>1.0</td>\n",
              "    </tr>\n",
              "    <tr>\n",
              "      <th>40</th>\n",
              "      <td>105</td>\n",
              "      <td>3</td>\n",
              "      <td>01:53</td>\n",
              "      <td>Хлеб на СЫВОРОТКЕ 350г</td>\n",
              "      <td>1.0</td>\n",
              "      <td>7</td>\n",
              "      <td>-1</td>\n",
              "      <td>None</td>\n",
              "      <td>84</td>\n",
              "      <td>1.0</td>\n",
              "    </tr>\n",
              "  </tbody>\n",
              "</table>\n",
              "</div>"
            ],
            "text/plain": [
              "    receipt_id  receipt_dayofweek  ... category_id category_id_prob\n",
              "1           11                  6  ...          78              1.0\n",
              "3           39                  4  ...          71              1.0\n",
              "4           39                  4  ...          71              1.0\n",
              "17          56                  5  ...          70              1.0\n",
              "40         105                  3  ...          84              1.0\n",
              "\n",
              "[5 rows x 10 columns]"
            ]
          },
          "metadata": {
            "tags": []
          },
          "execution_count": 47
        }
      ]
    },
    {
      "cell_type": "code",
      "metadata": {
        "id": "UFe5cnDp9QLJ"
      },
      "source": [
        "parquet_all = pd.concat([parquet_train_marked, train_not_marked_merged], ignore_index=True)"
      ],
      "execution_count": null,
      "outputs": []
    },
    {
      "cell_type": "code",
      "metadata": {
        "colab": {
          "base_uri": "https://localhost:8080/"
        },
        "id": "faOE7sNaDjsp",
        "outputId": "1033d0df-a47d-4283-d4f6-fa89d2dbb38d"
      },
      "source": [
        "parquet_all.shape,parquet_train_marked.shape,train_not_marked_merged.shape"
      ],
      "execution_count": null,
      "outputs": [
        {
          "output_type": "execute_result",
          "data": {
            "text/plain": [
              "((26094077, 10), (6483226, 10), (19610851, 10))"
            ]
          },
          "metadata": {
            "tags": []
          },
          "execution_count": 56
        }
      ]
    },
    {
      "cell_type": "code",
      "metadata": {
        "colab": {
          "base_uri": "https://localhost:8080/",
          "height": 585
        },
        "id": "2Lcq47ZpMcJ-",
        "outputId": "774901d9-41f9-4cac-fc21-3beb97b7ebdc"
      },
      "source": [
        "parquet_all"
      ],
      "execution_count": null,
      "outputs": [
        {
          "output_type": "execute_result",
          "data": {
            "text/html": [
              "<div>\n",
              "<style scoped>\n",
              "    .dataframe tbody tr th:only-of-type {\n",
              "        vertical-align: middle;\n",
              "    }\n",
              "\n",
              "    .dataframe tbody tr th {\n",
              "        vertical-align: top;\n",
              "    }\n",
              "\n",
              "    .dataframe thead th {\n",
              "        text-align: right;\n",
              "    }\n",
              "</style>\n",
              "<table border=\"1\" class=\"dataframe\">\n",
              "  <thead>\n",
              "    <tr style=\"text-align: right;\">\n",
              "      <th></th>\n",
              "      <th>receipt_id</th>\n",
              "      <th>receipt_dayofweek</th>\n",
              "      <th>receipt_time</th>\n",
              "      <th>item_name</th>\n",
              "      <th>item_quantity</th>\n",
              "      <th>item_price</th>\n",
              "      <th>item_nds_rate</th>\n",
              "      <th>brands</th>\n",
              "      <th>category_id</th>\n",
              "      <th>category_id_prob</th>\n",
              "    </tr>\n",
              "  </thead>\n",
              "  <tbody>\n",
              "    <tr>\n",
              "      <th>0</th>\n",
              "      <td>11</td>\n",
              "      <td>6</td>\n",
              "      <td>20:34</td>\n",
              "      <td>Молоко 3,2%,шт</td>\n",
              "      <td>2.000</td>\n",
              "      <td>8</td>\n",
              "      <td>2</td>\n",
              "      <td>None</td>\n",
              "      <td>78</td>\n",
              "      <td>1.000000</td>\n",
              "    </tr>\n",
              "    <tr>\n",
              "      <th>1</th>\n",
              "      <td>39</td>\n",
              "      <td>4</td>\n",
              "      <td>11:28</td>\n",
              "      <td>Компот из изюма, 114 ккал</td>\n",
              "      <td>1.000</td>\n",
              "      <td>4</td>\n",
              "      <td>1</td>\n",
              "      <td>None</td>\n",
              "      <td>71</td>\n",
              "      <td>1.000000</td>\n",
              "    </tr>\n",
              "    <tr>\n",
              "      <th>2</th>\n",
              "      <td>39</td>\n",
              "      <td>4</td>\n",
              "      <td>11:28</td>\n",
              "      <td>Макаронные изделия отварные (масло сливочное),...</td>\n",
              "      <td>1.000</td>\n",
              "      <td>4</td>\n",
              "      <td>1</td>\n",
              "      <td>None</td>\n",
              "      <td>71</td>\n",
              "      <td>1.000000</td>\n",
              "    </tr>\n",
              "    <tr>\n",
              "      <th>3</th>\n",
              "      <td>56</td>\n",
              "      <td>5</td>\n",
              "      <td>11:42</td>\n",
              "      <td>Кофе Капучино Большой Эден 18</td>\n",
              "      <td>1.000</td>\n",
              "      <td>12</td>\n",
              "      <td>1</td>\n",
              "      <td>None</td>\n",
              "      <td>70</td>\n",
              "      <td>1.000000</td>\n",
              "    </tr>\n",
              "    <tr>\n",
              "      <th>4</th>\n",
              "      <td>105</td>\n",
              "      <td>3</td>\n",
              "      <td>01:53</td>\n",
              "      <td>Хлеб на СЫВОРОТКЕ 350г</td>\n",
              "      <td>1.000</td>\n",
              "      <td>7</td>\n",
              "      <td>-1</td>\n",
              "      <td>None</td>\n",
              "      <td>84</td>\n",
              "      <td>1.000000</td>\n",
              "    </tr>\n",
              "    <tr>\n",
              "      <th>...</th>\n",
              "      <td>...</td>\n",
              "      <td>...</td>\n",
              "      <td>...</td>\n",
              "      <td>...</td>\n",
              "      <td>...</td>\n",
              "      <td>...</td>\n",
              "      <td>...</td>\n",
              "      <td>...</td>\n",
              "      <td>...</td>\n",
              "      <td>...</td>\n",
              "    </tr>\n",
              "    <tr>\n",
              "      <th>26094072</th>\n",
              "      <td>10016000</td>\n",
              "      <td>1</td>\n",
              "      <td>13:07</td>\n",
              "      <td>Краски аквар.12 цвет.медовые BRAUBERG</td>\n",
              "      <td>1.000</td>\n",
              "      <td>8</td>\n",
              "      <td>6</td>\n",
              "      <td>brauberg</td>\n",
              "      <td>31</td>\n",
              "      <td>0.277473</td>\n",
              "    </tr>\n",
              "    <tr>\n",
              "      <th>26094073</th>\n",
              "      <td>10016000</td>\n",
              "      <td>1</td>\n",
              "      <td>13:07</td>\n",
              "      <td>Зонт мужской автомат &lt;&gt;</td>\n",
              "      <td>1.000</td>\n",
              "      <td>16</td>\n",
              "      <td>6</td>\n",
              "      <td>None</td>\n",
              "      <td>52</td>\n",
              "      <td>0.828680</td>\n",
              "    </tr>\n",
              "    <tr>\n",
              "      <th>26094074</th>\n",
              "      <td>10016004</td>\n",
              "      <td>2</td>\n",
              "      <td>18:43</td>\n",
              "      <td>Пиво Ячменное фирменное с/б 0,5 л</td>\n",
              "      <td>2.000</td>\n",
              "      <td>9</td>\n",
              "      <td>-1</td>\n",
              "      <td>None</td>\n",
              "      <td>0</td>\n",
              "      <td>0.942058</td>\n",
              "    </tr>\n",
              "    <tr>\n",
              "      <th>26094075</th>\n",
              "      <td>10016159</td>\n",
              "      <td>4</td>\n",
              "      <td>12:39</td>\n",
              "      <td>Слива Черная Пантера 1кг</td>\n",
              "      <td>0.439</td>\n",
              "      <td>11</td>\n",
              "      <td>-1</td>\n",
              "      <td>None</td>\n",
              "      <td>80</td>\n",
              "      <td>0.779974</td>\n",
              "    </tr>\n",
              "    <tr>\n",
              "      <th>26094076</th>\n",
              "      <td>10016159</td>\n",
              "      <td>4</td>\n",
              "      <td>12:39</td>\n",
              "      <td>Яблоки Дискавери 1кг Молдова</td>\n",
              "      <td>0.389</td>\n",
              "      <td>10</td>\n",
              "      <td>-1</td>\n",
              "      <td>None</td>\n",
              "      <td>80</td>\n",
              "      <td>0.915094</td>\n",
              "    </tr>\n",
              "  </tbody>\n",
              "</table>\n",
              "<p>26094077 rows × 10 columns</p>\n",
              "</div>"
            ],
            "text/plain": [
              "          receipt_id  receipt_dayofweek  ... category_id category_id_prob\n",
              "0                 11                  6  ...          78         1.000000\n",
              "1                 39                  4  ...          71         1.000000\n",
              "2                 39                  4  ...          71         1.000000\n",
              "3                 56                  5  ...          70         1.000000\n",
              "4                105                  3  ...          84         1.000000\n",
              "...              ...                ...  ...         ...              ...\n",
              "26094072    10016000                  1  ...          31         0.277473\n",
              "26094073    10016000                  1  ...          52         0.828680\n",
              "26094074    10016004                  2  ...           0         0.942058\n",
              "26094075    10016159                  4  ...          80         0.779974\n",
              "26094076    10016159                  4  ...          80         0.915094\n",
              "\n",
              "[26094077 rows x 10 columns]"
            ]
          },
          "metadata": {
            "tags": []
          },
          "execution_count": 57
        }
      ]
    },
    {
      "cell_type": "code",
      "metadata": {
        "id": "ssY-zQ-POOWH"
      },
      "source": [
        "parquet_all.to_parquet(path_to_data + \"new_data_20_03/\" + \"all_marking_up_train.parquet\", engine=\"fastparquet\", compression=\"gzip\")"
      ],
      "execution_count": null,
      "outputs": []
    },
    {
      "cell_type": "code",
      "metadata": {
        "colab": {
          "base_uri": "https://localhost:8080/"
        },
        "id": "ECydOO6tOtTL",
        "outputId": "9a70c005-1a12-42f0-8c04-72ac3658c48c"
      },
      "source": [
        "parquet_all.shape"
      ],
      "execution_count": null,
      "outputs": [
        {
          "output_type": "execute_result",
          "data": {
            "text/plain": [
              "(26094077, 10)"
            ]
          },
          "metadata": {
            "tags": []
          },
          "execution_count": 59
        }
      ]
    },
    {
      "cell_type": "code",
      "metadata": {
        "colab": {
          "base_uri": "https://localhost:8080/"
        },
        "id": "Klnd20-WPY8e",
        "outputId": "5aed105d-a006-4485-c643-6b3daebe8bae"
      },
      "source": [
        "parquet_train.shape"
      ],
      "execution_count": null,
      "outputs": [
        {
          "output_type": "execute_result",
          "data": {
            "text/plain": [
              "(26094077, 9)"
            ]
          },
          "metadata": {
            "tags": []
          },
          "execution_count": 60
        }
      ]
    },
    {
      "cell_type": "code",
      "metadata": {
        "id": "d1iwAsvOPbJ5"
      },
      "source": [
        "tmp_1 = pd.read_parquet(path_to_data + \"new_data_20_03/\" + \"all_marking_up_train.parquet\")"
      ],
      "execution_count": null,
      "outputs": []
    }
  ]
}