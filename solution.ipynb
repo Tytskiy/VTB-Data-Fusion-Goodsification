{
  "nbformat": 4,
  "nbformat_minor": 0,
  "metadata": {
    "colab": {
      "name": "Copy of 20.03 clean baseline_fusion",
      "provenance": [],
      "collapsed_sections": [],
      "toc_visible": true,
      "machine_shape": "hm"
    },
    "kernelspec": {
      "display_name": "Python 3",
      "name": "python3"
    }
  },
  "cells": [
    {
      "cell_type": "markdown",
      "metadata": {
        "id": "MAYRKxbbEKUz"
      },
      "source": [
        "# Построение алгоритма классификации\n",
        "\n",
        "## Команда Students:  \n",
        "__Сивцов Данил__  \n",
        "__Тыцкий Владислав__  \n",
        "\n",
        "## Архитектура\n",
        "#### Псевдолейблинг\n",
        "1. Обучаем tfidf charwb + svm\n",
        "2. Исключаем классы, которые svm очень плохо различает (71,84,204,79,83)\n",
        "3. Берем метки с уверенностью больше 0.75\n",
        "4. Произвольно выбираем из оставшихся 15000 и добаляем к изначальному датасету\n",
        "\n",
        "Была также выделена небольшая валидационная выборка для тестирования доразметки. После подбора параметров стекинг обучался на всех данных\n",
        "\n",
        "#### Далее работаем с полученными доразмеченными данными\n",
        "#### Базовые модели\n",
        "1. tfidf charwb + calibrated svm  \n",
        "2. Numerical & categorical features + lgb  \n",
        "3. tfidf char + naive bayes  \n",
        "\n",
        "Взята часть категориальных фичей из публичного решения exotol create_features_part_2()\n",
        "\n",
        "#### Стекинг - predict proba + svm\n",
        "\n",
        "## Что не сработало:\n",
        "1. KNN фичи на tfidf -> lgb (хотя в аналогичном соревновании от Яндекс https://www.youtube.com/watch?v=WSiPNCzShSY&t=691s&ab_channel=ODSAIRu они улучшили модель)\n",
        "2. Стекинг бустингом. Как на классах, так и на вероятностях\n",
        "3. Стекинг моделей с различным tfidf: charwb и word\n",
        "4. Увеличение и уменьшение порога доразметки и количество добавляемых элементов\n",
        "5. Агрегация фич по чекам (в соревновании Яндекса это улучшило скор)\n",
        "6. Разделение camel case чеков, добавление к исходному названию склееного название чеков (для нас это оказалось странным, но паблик падал на пару тысячных, решили убрать)\n",
        "\n",
        "## Что мы не успели попробовать/догадаться\n",
        "1. Использовать Fast to text\n",
        "2. Семплировать с различными сидами и усреднять несколько стекингов\n"
      ]
    },
    {
      "cell_type": "code",
      "metadata": {
        "id": "UbXxmm-QJgbS"
      },
      "source": [
        ""
      ],
      "execution_count": null,
      "outputs": []
    },
    {
      "cell_type": "markdown",
      "metadata": {
        "id": "e8mGMenBJilB"
      },
      "source": [
        "### Подключаем поддержку GPU для lgb"
      ]
    },
    {
      "cell_type": "code",
      "metadata": {
        "id": "LeOj1j6hvSHd",
        "colab": {
          "base_uri": "https://localhost:8080/"
        },
        "outputId": "847017b4-07ba-4a70-efc1-29132a5a34b2"
      },
      "source": [
        "# After running\n",
        "! git clone --recursive https://github.com/Microsoft/LightGBM"
      ],
      "execution_count": null,
      "outputs": [
        {
          "output_type": "stream",
          "text": [
            "fatal: destination path 'LightGBM' already exists and is not an empty directory.\n"
          ],
          "name": "stdout"
        }
      ]
    },
    {
      "cell_type": "code",
      "metadata": {
        "colab": {
          "base_uri": "https://localhost:8080/"
        },
        "id": "JGV252Opa9OK",
        "outputId": "e622b951-1a10-4f4f-bf16-6fa160d2f012"
      },
      "source": [
        "#You can run this oneliner which will build and compile LightGBM with GPU enabled in colab:\n",
        "! cd LightGBM && rm -rf build && mkdir build && cd build && cmake -DUSE_GPU=1 ../../LightGBM && make -j4 && cd ../python-package && python3 setup.py install --precompile --gpu;  "
      ],
      "execution_count": null,
      "outputs": [
        {
          "output_type": "stream",
          "text": [
            "-- The C compiler identification is GNU 7.5.0\n",
            "-- The CXX compiler identification is GNU 7.5.0\n",
            "-- Check for working C compiler: /usr/bin/cc\n",
            "-- Check for working C compiler: /usr/bin/cc -- works\n",
            "-- Detecting C compiler ABI info\n",
            "-- Detecting C compiler ABI info - done\n",
            "-- Detecting C compile features\n",
            "Traceback (most recent call last):\n",
            "  File \"/usr/local/bin/cmake\", line 8, in <module>\n",
            "    sys.exit(cmake())\n",
            "  File \"/usr/local/lib/python2.7/dist-packages/cmake/__init__.py\", line 34, in cmake\n",
            "    raise SystemExit(_program('cmake', sys.argv[1:]))\n",
            "  File \"/usr/local/lib/python2.7/dist-packages/cmake/__init__.py\", line 30, in _program\n",
            "    return subprocess.call([os.path.join(CMAKE_BIN_DIR, name)] + args)\n",
            "  File \"/usr/lib/python2.7/subprocess.py\", line 172, in call\n",
            "    return Popen(*popenargs, **kwargs).wait()\n",
            "  File \"/usr/lib/python2.7/subprocess.py\", line 1099, in wait\n",
            "    pid, sts = _eintr_retry_call(os.waitpid, self.pid, 0)\n",
            "  File \"/usr/lib/python2.7/subprocess.py\", line 125, in _eintr_retry_call\n",
            "    return func(*args)\n",
            "KeyboardInterrupt\n"
          ],
          "name": "stdout"
        }
      ]
    },
    {
      "cell_type": "markdown",
      "metadata": {
        "id": "di-lf7aHJxVs"
      },
      "source": [
        "#### После установки необходимо сделать restart runtime и начать с ячеек ниже"
      ]
    },
    {
      "cell_type": "code",
      "metadata": {
        "id": "AhQPWVn_JwEZ"
      },
      "source": [
        ""
      ],
      "execution_count": null,
      "outputs": []
    },
    {
      "cell_type": "code",
      "metadata": {
        "colab": {
          "base_uri": "https://localhost:8080/"
        },
        "id": "aw33fSvq_w6w",
        "outputId": "27ce0e25-ef21-4ff1-d635-9aaf85436913"
      },
      "source": [
        "from google.colab import drive\n",
        "drive.mount('/content/drive')"
      ],
      "execution_count": null,
      "outputs": [
        {
          "output_type": "stream",
          "text": [
            "Mounted at /content/drive\n"
          ],
          "name": "stdout"
        }
      ]
    },
    {
      "cell_type": "code",
      "metadata": {
        "id": "IAY71UCP_79r"
      },
      "source": [
        "import pandas as pd\n",
        "import numpy as np\n",
        "import pickle\n",
        "import re\n",
        "\n",
        "import lightgbm as lgb\n",
        "\n",
        "from sklearn.linear_model import LogisticRegression\n",
        "from sklearn.svm import LinearSVC\n",
        "from sklearn.metrics import f1_score\n",
        "from sklearn.model_selection import train_test_split, cross_val_score, cross_val_predict, train_test_split, StratifiedKFold\n",
        "from sklearn.calibration import CalibratedClassifierCV\n",
        "from sklearn.naive_bayes import MultinomialNB, ComplementNB\n",
        "from sklearn.preprocessing import OneHotEncoder, StandardScaler, LabelEncoder\n",
        "from sklearn.feature_extraction.text import TfidfVectorizer\n",
        "from sklearn.pipeline import Pipeline\n",
        "from sklearn.compose import ColumnTransformer\n",
        "\n",
        "from scipy import sparse\n",
        "\n",
        "from nltk.corpus import stopwords "
      ],
      "execution_count": null,
      "outputs": []
    },
    {
      "cell_type": "code",
      "metadata": {
        "colab": {
          "base_uri": "https://localhost:8080/"
        },
        "id": "Lw95wH6O2iBD",
        "outputId": "5455e011-2011-4962-b202-c45bb3453387"
      },
      "source": [
        "!ls"
      ],
      "execution_count": null,
      "outputs": [
        {
          "output_type": "stream",
          "text": [
            "drive  LightGBM  sample_data\n"
          ],
          "name": "stdout"
        }
      ]
    },
    {
      "cell_type": "code",
      "metadata": {
        "colab": {
          "base_uri": "https://localhost:8080/"
        },
        "id": "3xRcVfGiAMNX",
        "outputId": "75600c12-c940-4f60-afce-40fa96238bc7"
      },
      "source": [
        "import nltk\n",
        "nltk.download('stopwords')\n",
        "nltk.download('punkt')\n",
        "stop_russian_words = stopwords.words('russian')"
      ],
      "execution_count": null,
      "outputs": [
        {
          "output_type": "stream",
          "text": [
            "[nltk_data] Downloading package stopwords to /root/nltk_data...\n",
            "[nltk_data]   Unzipping corpora/stopwords.zip.\n",
            "[nltk_data] Downloading package punkt to /root/nltk_data...\n",
            "[nltk_data]   Unzipping tokenizers/punkt.zip.\n"
          ],
          "name": "stdout"
        }
      ]
    },
    {
      "cell_type": "code",
      "metadata": {
        "id": "h9p6NM3yAQn1"
      },
      "source": [
        "path_to_data = \"drive/MyDrive/Data Fusion/\""
      ],
      "execution_count": null,
      "outputs": []
    },
    {
      "cell_type": "code",
      "metadata": {
        "id": "DfsDr8kxKAME"
      },
      "source": [
        ""
      ],
      "execution_count": null,
      "outputs": []
    },
    {
      "cell_type": "markdown",
      "metadata": {
        "id": "Q3IVx7dVKXMz"
      },
      "source": [
        "#### Загрузка выделенной выборки для тестирования алгоритмов на доразметке"
      ]
    },
    {
      "cell_type": "code",
      "metadata": {
        "id": "U7KQFrP0U-3A"
      },
      "source": [
        "test = pd.read_parquet(path_to_data + \"new_data_20_03/\" + 'marked_test_agg.parquet') # все фичи уже саггрерированы!!"
      ],
      "execution_count": null,
      "outputs": []
    },
    {
      "cell_type": "code",
      "metadata": {
        "colab": {
          "base_uri": "https://localhost:8080/"
        },
        "id": "Zk8--8SwZryl",
        "outputId": "2ac8c405-3af4-4643-f9e7-8b212febdd0c"
      },
      "source": [
        "test.shape"
      ],
      "execution_count": null,
      "outputs": [
        {
          "output_type": "execute_result",
          "data": {
            "text/plain": [
              "(8000, 11)"
            ]
          },
          "metadata": {
            "tags": []
          },
          "execution_count": 6
        }
      ]
    },
    {
      "cell_type": "code",
      "metadata": {
        "colab": {
          "base_uri": "https://localhost:8080/",
          "height": 405
        },
        "id": "Q81XDLvkVQbG",
        "outputId": "13839a76-c2cd-4ca2-fa14-72ab9072c4d3"
      },
      "source": [
        "test.head(5)"
      ],
      "execution_count": null,
      "outputs": [
        {
          "output_type": "execute_result",
          "data": {
            "text/html": [
              "<div>\n",
              "<style scoped>\n",
              "    .dataframe tbody tr th:only-of-type {\n",
              "        vertical-align: middle;\n",
              "    }\n",
              "\n",
              "    .dataframe tbody tr th {\n",
              "        vertical-align: top;\n",
              "    }\n",
              "\n",
              "    .dataframe thead th {\n",
              "        text-align: right;\n",
              "    }\n",
              "</style>\n",
              "<table border=\"1\" class=\"dataframe\">\n",
              "  <thead>\n",
              "    <tr style=\"text-align: right;\">\n",
              "      <th></th>\n",
              "      <th>receipt_dayofweek</th>\n",
              "      <th>item_quantity</th>\n",
              "      <th>item_price</th>\n",
              "      <th>item_nds_rate</th>\n",
              "      <th>day_of_part</th>\n",
              "      <th>is_int_quanitity</th>\n",
              "      <th>mean_item_quantity</th>\n",
              "      <th>mean_item_price</th>\n",
              "      <th>mean_item_counts</th>\n",
              "      <th>category_id</th>\n",
              "      <th>item_name</th>\n",
              "    </tr>\n",
              "    <tr>\n",
              "      <th>index</th>\n",
              "      <th></th>\n",
              "      <th></th>\n",
              "      <th></th>\n",
              "      <th></th>\n",
              "      <th></th>\n",
              "      <th></th>\n",
              "      <th></th>\n",
              "      <th></th>\n",
              "      <th></th>\n",
              "      <th></th>\n",
              "      <th></th>\n",
              "    </tr>\n",
              "  </thead>\n",
              "  <tbody>\n",
              "    <tr>\n",
              "      <th>30166</th>\n",
              "      <td>3</td>\n",
              "      <td>1.666667</td>\n",
              "      <td>9.000000</td>\n",
              "      <td>6</td>\n",
              "      <td>afternoon</td>\n",
              "      <td>False</td>\n",
              "      <td>1.303704</td>\n",
              "      <td>8.111111</td>\n",
              "      <td>6.000000</td>\n",
              "      <td>0</td>\n",
              "      <td>Пив нап \"Вайс Берг пшеничное ЛИМОН-ЛАЙМ\"</td>\n",
              "    </tr>\n",
              "    <tr>\n",
              "      <th>35055</th>\n",
              "      <td>3</td>\n",
              "      <td>0.270769</td>\n",
              "      <td>15.923077</td>\n",
              "      <td>6</td>\n",
              "      <td>afternoon</td>\n",
              "      <td>True</td>\n",
              "      <td>0.760936</td>\n",
              "      <td>11.953219</td>\n",
              "      <td>5.769231</td>\n",
              "      <td>71</td>\n",
              "      <td>Салат Рыба ананасовая</td>\n",
              "    </tr>\n",
              "    <tr>\n",
              "      <th>28618</th>\n",
              "      <td>5</td>\n",
              "      <td>2.454545</td>\n",
              "      <td>8.795455</td>\n",
              "      <td>1</td>\n",
              "      <td>evening</td>\n",
              "      <td>False</td>\n",
              "      <td>1.664288</td>\n",
              "      <td>8.317610</td>\n",
              "      <td>4.814935</td>\n",
              "      <td>0</td>\n",
              "      <td>ПИВО БАД СВЕТЛОЕ СТ/Б 5% 0,47Л</td>\n",
              "    </tr>\n",
              "    <tr>\n",
              "      <th>16819</th>\n",
              "      <td>4</td>\n",
              "      <td>1.177083</td>\n",
              "      <td>8.041667</td>\n",
              "      <td>2</td>\n",
              "      <td>afternoon</td>\n",
              "      <td>False</td>\n",
              "      <td>1.152636</td>\n",
              "      <td>7.615305</td>\n",
              "      <td>6.260417</td>\n",
              "      <td>80</td>\n",
              "      <td>КАРТОФЕЛЬ ОВОЩАТА 1.5КГ</td>\n",
              "    </tr>\n",
              "    <tr>\n",
              "      <th>28262</th>\n",
              "      <td>5</td>\n",
              "      <td>1.162393</td>\n",
              "      <td>8.000000</td>\n",
              "      <td>1</td>\n",
              "      <td>afternoon</td>\n",
              "      <td>False</td>\n",
              "      <td>1.139615</td>\n",
              "      <td>8.575688</td>\n",
              "      <td>8.145299</td>\n",
              "      <td>19</td>\n",
              "      <td>Открытка О** Арт-Дизайн</td>\n",
              "    </tr>\n",
              "  </tbody>\n",
              "</table>\n",
              "</div>"
            ],
            "text/plain": [
              "       receipt_dayofweek  ...                                 item_name\n",
              "index                     ...                                          \n",
              "30166                  3  ...  Пив нап \"Вайс Берг пшеничное ЛИМОН-ЛАЙМ\"\n",
              "35055                  3  ...                     Салат Рыба ананасовая\n",
              "28618                  5  ...            ПИВО БАД СВЕТЛОЕ СТ/Б 5% 0,47Л\n",
              "16819                  4  ...                   КАРТОФЕЛЬ ОВОЩАТА 1.5КГ\n",
              "28262                  5  ...                   Открытка О** Арт-Дизайн\n",
              "\n",
              "[5 rows x 11 columns]"
            ]
          },
          "metadata": {
            "tags": []
          },
          "execution_count": 7
        }
      ]
    },
    {
      "cell_type": "markdown",
      "metadata": {
        "id": "cVQ4ZMIJKicO"
      },
      "source": [
        "#### Доразмеченные данные вместе с тестовыми (их необходимо позже исключить)"
      ]
    },
    {
      "cell_type": "code",
      "metadata": {
        "id": "FvLvebZgAQr_"
      },
      "source": [
        "parquet_train = pd.read_parquet(path_to_data + \"new_data_20_03/\" + 'all_marking_up_train.parquet') # как исходный датасет, но с разметкой"
      ],
      "execution_count": null,
      "outputs": []
    },
    {
      "cell_type": "code",
      "metadata": {
        "colab": {
          "base_uri": "https://localhost:8080/",
          "height": 204
        },
        "id": "C9c5HnzLVCos",
        "outputId": "37065efe-2aaf-42a9-cb28-dc870707b6b2"
      },
      "source": [
        "parquet_train.head(5)"
      ],
      "execution_count": null,
      "outputs": [
        {
          "output_type": "execute_result",
          "data": {
            "text/html": [
              "<div>\n",
              "<style scoped>\n",
              "    .dataframe tbody tr th:only-of-type {\n",
              "        vertical-align: middle;\n",
              "    }\n",
              "\n",
              "    .dataframe tbody tr th {\n",
              "        vertical-align: top;\n",
              "    }\n",
              "\n",
              "    .dataframe thead th {\n",
              "        text-align: right;\n",
              "    }\n",
              "</style>\n",
              "<table border=\"1\" class=\"dataframe\">\n",
              "  <thead>\n",
              "    <tr style=\"text-align: right;\">\n",
              "      <th></th>\n",
              "      <th>receipt_id</th>\n",
              "      <th>receipt_dayofweek</th>\n",
              "      <th>receipt_time</th>\n",
              "      <th>item_name</th>\n",
              "      <th>item_quantity</th>\n",
              "      <th>item_price</th>\n",
              "      <th>item_nds_rate</th>\n",
              "      <th>brands</th>\n",
              "      <th>category_id</th>\n",
              "      <th>category_id_prob</th>\n",
              "    </tr>\n",
              "  </thead>\n",
              "  <tbody>\n",
              "    <tr>\n",
              "      <th>0</th>\n",
              "      <td>11</td>\n",
              "      <td>6</td>\n",
              "      <td>20:34</td>\n",
              "      <td>Молоко 3,2%,шт</td>\n",
              "      <td>2.0</td>\n",
              "      <td>8</td>\n",
              "      <td>2</td>\n",
              "      <td>None</td>\n",
              "      <td>78</td>\n",
              "      <td>1.0</td>\n",
              "    </tr>\n",
              "    <tr>\n",
              "      <th>1</th>\n",
              "      <td>39</td>\n",
              "      <td>4</td>\n",
              "      <td>11:28</td>\n",
              "      <td>Компот из изюма, 114 ккал</td>\n",
              "      <td>1.0</td>\n",
              "      <td>4</td>\n",
              "      <td>1</td>\n",
              "      <td>None</td>\n",
              "      <td>71</td>\n",
              "      <td>1.0</td>\n",
              "    </tr>\n",
              "    <tr>\n",
              "      <th>2</th>\n",
              "      <td>39</td>\n",
              "      <td>4</td>\n",
              "      <td>11:28</td>\n",
              "      <td>Макаронные изделия отварные (масло сливочное),...</td>\n",
              "      <td>1.0</td>\n",
              "      <td>4</td>\n",
              "      <td>1</td>\n",
              "      <td>None</td>\n",
              "      <td>71</td>\n",
              "      <td>1.0</td>\n",
              "    </tr>\n",
              "    <tr>\n",
              "      <th>3</th>\n",
              "      <td>56</td>\n",
              "      <td>5</td>\n",
              "      <td>11:42</td>\n",
              "      <td>Кофе Капучино Большой Эден 18</td>\n",
              "      <td>1.0</td>\n",
              "      <td>12</td>\n",
              "      <td>1</td>\n",
              "      <td>None</td>\n",
              "      <td>70</td>\n",
              "      <td>1.0</td>\n",
              "    </tr>\n",
              "    <tr>\n",
              "      <th>4</th>\n",
              "      <td>105</td>\n",
              "      <td>3</td>\n",
              "      <td>01:53</td>\n",
              "      <td>Хлеб на СЫВОРОТКЕ 350г</td>\n",
              "      <td>1.0</td>\n",
              "      <td>7</td>\n",
              "      <td>-1</td>\n",
              "      <td>None</td>\n",
              "      <td>84</td>\n",
              "      <td>1.0</td>\n",
              "    </tr>\n",
              "  </tbody>\n",
              "</table>\n",
              "</div>"
            ],
            "text/plain": [
              "   receipt_id  receipt_dayofweek  ... category_id category_id_prob\n",
              "0          11                  6  ...          78              1.0\n",
              "1          39                  4  ...          71              1.0\n",
              "2          39                  4  ...          71              1.0\n",
              "3          56                  5  ...          70              1.0\n",
              "4         105                  3  ...          84              1.0\n",
              "\n",
              "[5 rows x 10 columns]"
            ]
          },
          "metadata": {
            "tags": []
          },
          "execution_count": 9
        }
      ]
    },
    {
      "cell_type": "code",
      "metadata": {
        "id": "m_qItCdbDoZU"
      },
      "source": [
        "# Выделение изначальной выборки\n",
        "marked = parquet_train[parquet_train[\"category_id_prob\"] == 1]"
      ],
      "execution_count": null,
      "outputs": []
    },
    {
      "cell_type": "code",
      "metadata": {
        "id": "OekgxNxDBsnU"
      },
      "source": [
        "forbidden_classes = [71,84,204,79,83]"
      ],
      "execution_count": null,
      "outputs": []
    },
    {
      "cell_type": "code",
      "metadata": {
        "id": "HR7gJf0SHc3n"
      },
      "source": [
        "hold = 0.75\n",
        "# Выделение доразмеченных данных и исключение смешивающихся классов\n",
        "not_marked = parquet_train[((parquet_train[\"category_id_prob\"] < 1) & (parquet_train[\"category_id_prob\"] >= hold) &  \n",
        "                            (~parquet_train[\"category_id\"].isin(forbidden_classes)))]"
      ],
      "execution_count": null,
      "outputs": []
    },
    {
      "cell_type": "code",
      "metadata": {
        "colab": {
          "base_uri": "https://localhost:8080/"
        },
        "id": "hdO0DVqYBxtG",
        "outputId": "757a5a30-f498-444b-bcec-fdd70a4e80ef"
      },
      "source": [
        "not_marked.shape"
      ],
      "execution_count": null,
      "outputs": [
        {
          "output_type": "execute_result",
          "data": {
            "text/plain": [
              "(7628613, 10)"
            ]
          },
          "metadata": {
            "tags": []
          },
          "execution_count": 13
        }
      ]
    },
    {
      "cell_type": "code",
      "metadata": {
        "id": "iID-geuWHneR"
      },
      "source": [
        "not_marked_no_dc = not_marked.drop_duplicates(\"item_name\")"
      ],
      "execution_count": null,
      "outputs": []
    },
    {
      "cell_type": "code",
      "metadata": {
        "id": "eUH4axiQIviW"
      },
      "source": [
        "size_not_marked = 15000\n",
        "not_marked_sample = not_marked[not_marked[\"item_name\"].isin(not_marked_no_dc[\"item_name\"].sample(size_not_marked, random_state=42).values)]"
      ],
      "execution_count": null,
      "outputs": []
    },
    {
      "cell_type": "code",
      "metadata": {
        "id": "eSm0SDwmJc6m"
      },
      "source": [
        "train_concat = pd.concat([marked, not_marked_sample], ignore_index=True)"
      ],
      "execution_count": null,
      "outputs": []
    },
    {
      "cell_type": "code",
      "metadata": {
        "colab": {
          "base_uri": "https://localhost:8080/"
        },
        "id": "358ft5OlJrIq",
        "outputId": "5c963723-000e-454f-b466-02968617eff2"
      },
      "source": [
        "train_concat.shape, marked.shape, not_marked_sample.shape"
      ],
      "execution_count": null,
      "outputs": [
        {
          "output_type": "execute_result",
          "data": {
            "text/plain": [
              "((6580028, 10), (6483226, 10), (96802, 10))"
            ]
          },
          "metadata": {
            "tags": []
          },
          "execution_count": 17
        }
      ]
    },
    {
      "cell_type": "code",
      "metadata": {
        "id": "syKTZnmuLSy8"
      },
      "source": [
        ""
      ],
      "execution_count": null,
      "outputs": []
    },
    {
      "cell_type": "markdown",
      "metadata": {
        "id": "Pgt9Hm1TLT-q"
      },
      "source": [
        "#### Создание дополнительных признаков по чекам и по именам"
      ]
    },
    {
      "cell_type": "code",
      "metadata": {
        "id": "rbGDsUt6N-7e"
      },
      "source": [
        "def custom_mode(x):\n",
        "  return x.value_counts().index[0]\n",
        "\n",
        "def check_is_int(x):\n",
        "  return x.mean() !=1"
      ],
      "execution_count": null,
      "outputs": []
    },
    {
      "cell_type": "code",
      "metadata": {
        "id": "e9fytaf3UCXD"
      },
      "source": [
        "true_cheq = parquet_train['receipt_id'].unique()\n",
        "X_train_cheq = parquet_train[parquet_train[\"receipt_id\"].isin(true_cheq)]\n",
        "X_train_cheq[\"item_counts\"] = 1\n",
        "X_train_by_reciept = X_train_cheq.groupby(\"receipt_id\").agg({\n",
        "    \"item_quantity\": \"mean\",\n",
        "    \"item_price\": \"mean\",\n",
        "    \"item_counts\": \"sum\"\n",
        "    })"
      ],
      "execution_count": null,
      "outputs": []
    },
    {
      "cell_type": "code",
      "metadata": {
        "id": "n--Ih5bsUCZi"
      },
      "source": [
        "X_train_by_reciept[\"receipt_id\"] = X_train_by_reciept.index\n",
        "X_train_by_reciept.reset_index(drop=True, inplace=True)\n",
        "X_train_by_reciept.rename(columns={\"item_quantity\":\"mean_item_quantity\",\"item_price\":\"mean_item_price\",\t\"item_counts\":\"mean_item_counts\"},inplace=True)"
      ],
      "execution_count": null,
      "outputs": []
    },
    {
      "cell_type": "code",
      "metadata": {
        "colab": {
          "base_uri": "https://localhost:8080/"
        },
        "id": "hs2vp9WyYGvw",
        "outputId": "9db8012f-5b4e-4e06-dde7-d2d9abe9ae58"
      },
      "source": [
        "X_train_by_reciept.shape"
      ],
      "execution_count": null,
      "outputs": [
        {
          "output_type": "execute_result",
          "data": {
            "text/plain": [
              "(8127608, 4)"
            ]
          },
          "metadata": {
            "tags": []
          },
          "execution_count": 21
        }
      ]
    },
    {
      "cell_type": "code",
      "metadata": {
        "id": "_jrra-xcAQua"
      },
      "source": [
        "X_train_base = train_concat.reset_index(drop=True)"
      ],
      "execution_count": null,
      "outputs": []
    },
    {
      "cell_type": "code",
      "metadata": {
        "colab": {
          "base_uri": "https://localhost:8080/"
        },
        "id": "oFlHlMO4AQwt",
        "outputId": "36b00b3a-7d27-4e11-a595-ce3b3beefa6a"
      },
      "source": [
        "X_train_base.info()"
      ],
      "execution_count": null,
      "outputs": [
        {
          "output_type": "stream",
          "text": [
            "<class 'pandas.core.frame.DataFrame'>\n",
            "RangeIndex: 6580028 entries, 0 to 6580027\n",
            "Data columns (total 10 columns):\n",
            " #   Column             Dtype  \n",
            "---  ------             -----  \n",
            " 0   receipt_id         int64  \n",
            " 1   receipt_dayofweek  int32  \n",
            " 2   receipt_time       object \n",
            " 3   item_name          object \n",
            " 4   item_quantity      float64\n",
            " 5   item_price         int64  \n",
            " 6   item_nds_rate      int32  \n",
            " 7   brands             object \n",
            " 8   category_id        int64  \n",
            " 9   category_id_prob   float64\n",
            "dtypes: float64(2), int32(2), int64(3), object(3)\n",
            "memory usage: 451.8+ MB\n"
          ],
          "name": "stdout"
        }
      ]
    },
    {
      "cell_type": "code",
      "metadata": {
        "id": "fJCTwd6UD-8j"
      },
      "source": [
        "def part_of_day(x):\n",
        "    if ((x > 23) or x>=0) and (x <= 7):\n",
        "        return 'night'\n",
        "    elif (x > 7) and (x <= 12):\n",
        "        return 'morning'\n",
        "    elif (x > 12) and (x <= 17):\n",
        "        return 'afternoon'\n",
        "    elif (x > 17) and (x <= 20) :\n",
        "        return 'evening'\n",
        "    elif (x > 20) and (x <= 23):\n",
        "        return 'late evening'\n"
      ],
      "execution_count": null,
      "outputs": []
    },
    {
      "cell_type": "code",
      "metadata": {
        "id": "mpx3syTPCBuP"
      },
      "source": [
        "X_train_base[\"day_of_part\"] = X_train_base[\"receipt_time\"].apply(lambda x: part_of_day(int(x[:2])))"
      ],
      "execution_count": null,
      "outputs": []
    },
    {
      "cell_type": "code",
      "metadata": {
        "id": "rcrdDdzZLdYP"
      },
      "source": [
        "def type_of_quan(x):\n",
        "  if(int(x) == x):\n",
        "    return True\n",
        "  return False"
      ],
      "execution_count": null,
      "outputs": []
    },
    {
      "cell_type": "code",
      "metadata": {
        "id": "Zsha_4zqLSQU"
      },
      "source": [
        "X_train_base[\"is_int_quanitity\"] =  X_train_base[\"item_quantity\"].apply(lambda x: type_of_quan(x))"
      ],
      "execution_count": null,
      "outputs": []
    },
    {
      "cell_type": "code",
      "metadata": {
        "id": "O9WKIz9fYoGh"
      },
      "source": [
        "X_train_base = X_train_base.merge(X_train_by_reciept, on=\"receipt_id\", how=\"left\")"
      ],
      "execution_count": null,
      "outputs": []
    },
    {
      "cell_type": "code",
      "metadata": {
        "colab": {
          "base_uri": "https://localhost:8080/",
          "height": 609
        },
        "id": "PdDWDnV7CBw3",
        "outputId": "9bf41fd4-8d23-433e-fec3-e81ac9ba702d"
      },
      "source": [
        "X_train_base.head(7)"
      ],
      "execution_count": null,
      "outputs": [
        {
          "output_type": "execute_result",
          "data": {
            "text/html": [
              "<div>\n",
              "<style scoped>\n",
              "    .dataframe tbody tr th:only-of-type {\n",
              "        vertical-align: middle;\n",
              "    }\n",
              "\n",
              "    .dataframe tbody tr th {\n",
              "        vertical-align: top;\n",
              "    }\n",
              "\n",
              "    .dataframe thead th {\n",
              "        text-align: right;\n",
              "    }\n",
              "</style>\n",
              "<table border=\"1\" class=\"dataframe\">\n",
              "  <thead>\n",
              "    <tr style=\"text-align: right;\">\n",
              "      <th></th>\n",
              "      <th>receipt_id</th>\n",
              "      <th>receipt_dayofweek</th>\n",
              "      <th>receipt_time</th>\n",
              "      <th>item_name</th>\n",
              "      <th>item_quantity</th>\n",
              "      <th>item_price</th>\n",
              "      <th>item_nds_rate</th>\n",
              "      <th>brands</th>\n",
              "      <th>category_id</th>\n",
              "      <th>category_id_prob</th>\n",
              "      <th>day_of_part</th>\n",
              "      <th>is_int_quanitity</th>\n",
              "      <th>mean_item_quantity</th>\n",
              "      <th>mean_item_price</th>\n",
              "      <th>mean_item_counts</th>\n",
              "    </tr>\n",
              "  </thead>\n",
              "  <tbody>\n",
              "    <tr>\n",
              "      <th>0</th>\n",
              "      <td>11</td>\n",
              "      <td>6</td>\n",
              "      <td>20:34</td>\n",
              "      <td>Молоко 3,2%,шт</td>\n",
              "      <td>2.0</td>\n",
              "      <td>8</td>\n",
              "      <td>2</td>\n",
              "      <td>None</td>\n",
              "      <td>78</td>\n",
              "      <td>1.0</td>\n",
              "      <td>evening</td>\n",
              "      <td>True</td>\n",
              "      <td>2.000000</td>\n",
              "      <td>8.000000</td>\n",
              "      <td>1</td>\n",
              "    </tr>\n",
              "    <tr>\n",
              "      <th>1</th>\n",
              "      <td>39</td>\n",
              "      <td>4</td>\n",
              "      <td>11:28</td>\n",
              "      <td>Компот из изюма, 114 ккал</td>\n",
              "      <td>1.0</td>\n",
              "      <td>4</td>\n",
              "      <td>1</td>\n",
              "      <td>None</td>\n",
              "      <td>71</td>\n",
              "      <td>1.0</td>\n",
              "      <td>morning</td>\n",
              "      <td>True</td>\n",
              "      <td>1.000000</td>\n",
              "      <td>5.250000</td>\n",
              "      <td>4</td>\n",
              "    </tr>\n",
              "    <tr>\n",
              "      <th>2</th>\n",
              "      <td>39</td>\n",
              "      <td>4</td>\n",
              "      <td>11:28</td>\n",
              "      <td>Макаронные изделия отварные (масло сливочное),...</td>\n",
              "      <td>1.0</td>\n",
              "      <td>4</td>\n",
              "      <td>1</td>\n",
              "      <td>None</td>\n",
              "      <td>71</td>\n",
              "      <td>1.0</td>\n",
              "      <td>morning</td>\n",
              "      <td>True</td>\n",
              "      <td>1.000000</td>\n",
              "      <td>5.250000</td>\n",
              "      <td>4</td>\n",
              "    </tr>\n",
              "    <tr>\n",
              "      <th>3</th>\n",
              "      <td>56</td>\n",
              "      <td>5</td>\n",
              "      <td>11:42</td>\n",
              "      <td>Кофе Капучино Большой Эден 18</td>\n",
              "      <td>1.0</td>\n",
              "      <td>12</td>\n",
              "      <td>1</td>\n",
              "      <td>None</td>\n",
              "      <td>70</td>\n",
              "      <td>1.0</td>\n",
              "      <td>morning</td>\n",
              "      <td>True</td>\n",
              "      <td>1.000000</td>\n",
              "      <td>11.000000</td>\n",
              "      <td>2</td>\n",
              "    </tr>\n",
              "    <tr>\n",
              "      <th>4</th>\n",
              "      <td>105</td>\n",
              "      <td>3</td>\n",
              "      <td>01:53</td>\n",
              "      <td>Хлеб на СЫВОРОТКЕ 350г</td>\n",
              "      <td>1.0</td>\n",
              "      <td>7</td>\n",
              "      <td>-1</td>\n",
              "      <td>None</td>\n",
              "      <td>84</td>\n",
              "      <td>1.0</td>\n",
              "      <td>night</td>\n",
              "      <td>True</td>\n",
              "      <td>1.000000</td>\n",
              "      <td>7.000000</td>\n",
              "      <td>1</td>\n",
              "    </tr>\n",
              "    <tr>\n",
              "      <th>5</th>\n",
              "      <td>122</td>\n",
              "      <td>0</td>\n",
              "      <td>11:46</td>\n",
              "      <td>Сосиска в тесте с сыром 1шт ГЕ</td>\n",
              "      <td>3.0</td>\n",
              "      <td>7</td>\n",
              "      <td>2</td>\n",
              "      <td>None</td>\n",
              "      <td>84</td>\n",
              "      <td>1.0</td>\n",
              "      <td>morning</td>\n",
              "      <td>True</td>\n",
              "      <td>1.562364</td>\n",
              "      <td>8.818182</td>\n",
              "      <td>11</td>\n",
              "    </tr>\n",
              "    <tr>\n",
              "      <th>6</th>\n",
              "      <td>129</td>\n",
              "      <td>3</td>\n",
              "      <td>15:17</td>\n",
              "      <td>ЛанчБаскет 5 за 300: 2 шт ОРИГ Стрипсы кур фил</td>\n",
              "      <td>1.0</td>\n",
              "      <td>8</td>\n",
              "      <td>2</td>\n",
              "      <td>None</td>\n",
              "      <td>69</td>\n",
              "      <td>1.0</td>\n",
              "      <td>afternoon</td>\n",
              "      <td>True</td>\n",
              "      <td>1.166667</td>\n",
              "      <td>8.166667</td>\n",
              "      <td>6</td>\n",
              "    </tr>\n",
              "  </tbody>\n",
              "</table>\n",
              "</div>"
            ],
            "text/plain": [
              "   receipt_id  receipt_dayofweek  ... mean_item_price mean_item_counts\n",
              "0          11                  6  ...        8.000000                1\n",
              "1          39                  4  ...        5.250000                4\n",
              "2          39                  4  ...        5.250000                4\n",
              "3          56                  5  ...       11.000000                2\n",
              "4         105                  3  ...        7.000000                1\n",
              "5         122                  0  ...        8.818182               11\n",
              "6         129                  3  ...        8.166667                6\n",
              "\n",
              "[7 rows x 15 columns]"
            ]
          },
          "metadata": {
            "tags": []
          },
          "execution_count": 29
        }
      ]
    },
    {
      "cell_type": "code",
      "metadata": {
        "id": "w5vRXFTNBUDD"
      },
      "source": [
        "X_all_agg = X_train_base.groupby(\"item_name\").agg({\n",
        "    \"receipt_dayofweek\":custom_mode,\n",
        "    \"item_quantity\":\"mean\",\n",
        "    \"item_price\":\"mean\",\n",
        "    \"item_nds_rate\":custom_mode,\n",
        "    \"day_of_part\":custom_mode,\n",
        "    \"is_int_quanitity\": check_is_int,\n",
        "    \"mean_item_quantity\": \"mean\",\n",
        "    \"mean_item_price\": \"mean\",\n",
        "    \"mean_item_counts\": \"mean\",\n",
        "    \"category_id\":custom_mode,\n",
        "    \"category_id_prob\":\"mean\",\n",
        "    })"
      ],
      "execution_count": null,
      "outputs": []
    },
    {
      "cell_type": "code",
      "metadata": {
        "id": "Jzt6FD9DbL-m"
      },
      "source": [
        "# Фичи от exotol\n",
        "def create_features_part_2(data):\n",
        "    data['is_preservativ'] = data.item_name.apply(lambda x: int('презер' in x.lower()))\n",
        "    data['is_auto'] = data.item_name.apply(lambda x: int('авто' in x.lower() or \\\n",
        "                                                            'щетк' in x.lower() or \\\n",
        "                                                             'сантиметр' in x.lower()))\n",
        "\n",
        "    data['is_paper'] = data.item_name.apply(lambda x: int('бумага' in x.lower()))\n",
        "    data['is_otkritka'] = data.item_name.apply(lambda x: int('открытка' in x.lower()))\n",
        "    data['is_born'] = data.item_name.apply(lambda x: int('рождения' in x.lower()))\n",
        "    data['is_a4'] = data.item_name.apply(lambda x: int('а4' in x.lower()))\n",
        "    data['is_ubiley'] = data.item_name.apply(lambda x: int('юбиле' in x.lower()))\n",
        "\n",
        "    data['is_list'] = data.item_name.apply(lambda x: int('лист' in x.lower()))\n",
        "    data['is_kanc'] = data.item_name.apply(lambda x: int('канц' in x.lower()))\n",
        "    data['is_dnevnik'] = data.item_name.apply(lambda x: int('дневник' in x.lower()))\n",
        "\n",
        "    data['item_name_len'] = data.item_name.apply(lambda x: len(x.split()))\n",
        "\n",
        "    return data"
      ],
      "execution_count": null,
      "outputs": []
    },
    {
      "cell_type": "code",
      "metadata": {
        "id": "TYQ0czVfbRe8"
      },
      "source": [
        ""
      ],
      "execution_count": null,
      "outputs": []
    },
    {
      "cell_type": "code",
      "metadata": {
        "id": "sg4OFEBgbOw6"
      },
      "source": [
        ""
      ],
      "execution_count": null,
      "outputs": []
    },
    {
      "cell_type": "code",
      "metadata": {
        "id": "GGiGM3nDOV3D"
      },
      "source": [
        "X_all_agg[\"item_name\"] = X_all_agg.index\n",
        "X_all_agg.reset_index(drop=True, inplace=True)# НА ЭТОМ НАДО ОБУЧАТЬ ФИНАЛЬНУЮ МОДЕЛЬ"
      ],
      "execution_count": null,
      "outputs": []
    },
    {
      "cell_type": "code",
      "metadata": {
        "id": "Z4zjaVX8bTW0"
      },
      "source": [
        "X_all_agg = create_features_part_2(X_all_agg)"
      ],
      "execution_count": null,
      "outputs": []
    },
    {
      "cell_type": "code",
      "metadata": {
        "id": "hROxMnUySM3N"
      },
      "source": [
        "#X_train_agg['item_name'] = X_train_agg['item_name'].apply(lambda x: re.sub(r'([а-я])([А-Я]{1,2})', r'\\1 \\2', x) + ' ' + re.sub(r' ', r'', x))"
      ],
      "execution_count": null,
      "outputs": []
    },
    {
      "cell_type": "code",
      "metadata": {
        "colab": {
          "base_uri": "https://localhost:8080/",
          "height": 241
        },
        "id": "Ujy6WB0vPrxd",
        "outputId": "64f4e519-2653-4bac-a043-0702673f5abc"
      },
      "source": [
        "X_all_agg.head(5)"
      ],
      "execution_count": null,
      "outputs": [
        {
          "output_type": "execute_result",
          "data": {
            "text/html": [
              "<div>\n",
              "<style scoped>\n",
              "    .dataframe tbody tr th:only-of-type {\n",
              "        vertical-align: middle;\n",
              "    }\n",
              "\n",
              "    .dataframe tbody tr th {\n",
              "        vertical-align: top;\n",
              "    }\n",
              "\n",
              "    .dataframe thead th {\n",
              "        text-align: right;\n",
              "    }\n",
              "</style>\n",
              "<table border=\"1\" class=\"dataframe\">\n",
              "  <thead>\n",
              "    <tr style=\"text-align: right;\">\n",
              "      <th></th>\n",
              "      <th>receipt_dayofweek</th>\n",
              "      <th>item_quantity</th>\n",
              "      <th>item_price</th>\n",
              "      <th>item_nds_rate</th>\n",
              "      <th>day_of_part</th>\n",
              "      <th>is_int_quanitity</th>\n",
              "      <th>mean_item_quantity</th>\n",
              "      <th>mean_item_price</th>\n",
              "      <th>mean_item_counts</th>\n",
              "      <th>category_id</th>\n",
              "      <th>category_id_prob</th>\n",
              "      <th>item_name</th>\n",
              "      <th>is_preservativ</th>\n",
              "      <th>is_auto</th>\n",
              "      <th>is_paper</th>\n",
              "      <th>is_otkritka</th>\n",
              "      <th>is_born</th>\n",
              "      <th>is_a4</th>\n",
              "      <th>is_ubiley</th>\n",
              "      <th>is_list</th>\n",
              "      <th>is_kanc</th>\n",
              "      <th>is_dnevnik</th>\n",
              "      <th>item_name_len</th>\n",
              "    </tr>\n",
              "  </thead>\n",
              "  <tbody>\n",
              "    <tr>\n",
              "      <th>0</th>\n",
              "      <td>4</td>\n",
              "      <td>0.702276</td>\n",
              "      <td>11.775862</td>\n",
              "      <td>6</td>\n",
              "      <td>afternoon</td>\n",
              "      <td>True</td>\n",
              "      <td>1.005162</td>\n",
              "      <td>10.519226</td>\n",
              "      <td>4.137931</td>\n",
              "      <td>84</td>\n",
              "      <td>1.0</td>\n",
              "      <td></td>\n",
              "      <td>0</td>\n",
              "      <td>0</td>\n",
              "      <td>0</td>\n",
              "      <td>0</td>\n",
              "      <td>0</td>\n",
              "      <td>0</td>\n",
              "      <td>0</td>\n",
              "      <td>0</td>\n",
              "      <td>0</td>\n",
              "      <td>0</td>\n",
              "      <td>0</td>\n",
              "    </tr>\n",
              "    <tr>\n",
              "      <th>1</th>\n",
              "      <td>6</td>\n",
              "      <td>2.375333</td>\n",
              "      <td>5.333333</td>\n",
              "      <td>5</td>\n",
              "      <td>afternoon</td>\n",
              "      <td>True</td>\n",
              "      <td>1.376065</td>\n",
              "      <td>7.561111</td>\n",
              "      <td>5.166667</td>\n",
              "      <td>80</td>\n",
              "      <td>1.0</td>\n",
              "      <td>КАРТОФЕЛЬ ВЕС</td>\n",
              "      <td>0</td>\n",
              "      <td>0</td>\n",
              "      <td>0</td>\n",
              "      <td>0</td>\n",
              "      <td>0</td>\n",
              "      <td>0</td>\n",
              "      <td>0</td>\n",
              "      <td>0</td>\n",
              "      <td>0</td>\n",
              "      <td>0</td>\n",
              "      <td>2</td>\n",
              "    </tr>\n",
              "    <tr>\n",
              "      <th>2</th>\n",
              "      <td>6</td>\n",
              "      <td>1.637363</td>\n",
              "      <td>9.000000</td>\n",
              "      <td>1</td>\n",
              "      <td>afternoon</td>\n",
              "      <td>False</td>\n",
              "      <td>1.398866</td>\n",
              "      <td>7.828059</td>\n",
              "      <td>5.318681</td>\n",
              "      <td>130</td>\n",
              "      <td>1.0</td>\n",
              "      <td>МИСКА</td>\n",
              "      <td>0</td>\n",
              "      <td>0</td>\n",
              "      <td>0</td>\n",
              "      <td>0</td>\n",
              "      <td>0</td>\n",
              "      <td>0</td>\n",
              "      <td>0</td>\n",
              "      <td>0</td>\n",
              "      <td>0</td>\n",
              "      <td>0</td>\n",
              "      <td>1</td>\n",
              "    </tr>\n",
              "    <tr>\n",
              "      <th>3</th>\n",
              "      <td>6</td>\n",
              "      <td>1.222222</td>\n",
              "      <td>9.000000</td>\n",
              "      <td>-1</td>\n",
              "      <td>afternoon</td>\n",
              "      <td>False</td>\n",
              "      <td>1.264021</td>\n",
              "      <td>8.005820</td>\n",
              "      <td>3.777778</td>\n",
              "      <td>61</td>\n",
              "      <td>1.0</td>\n",
              "      <td>НОСКИ</td>\n",
              "      <td>0</td>\n",
              "      <td>0</td>\n",
              "      <td>0</td>\n",
              "      <td>0</td>\n",
              "      <td>0</td>\n",
              "      <td>0</td>\n",
              "      <td>0</td>\n",
              "      <td>0</td>\n",
              "      <td>0</td>\n",
              "      <td>0</td>\n",
              "      <td>1</td>\n",
              "    </tr>\n",
              "    <tr>\n",
              "      <th>4</th>\n",
              "      <td>5</td>\n",
              "      <td>0.642447</td>\n",
              "      <td>9.212766</td>\n",
              "      <td>5</td>\n",
              "      <td>afternoon</td>\n",
              "      <td>True</td>\n",
              "      <td>0.835412</td>\n",
              "      <td>9.079838</td>\n",
              "      <td>4.042553</td>\n",
              "      <td>80</td>\n",
              "      <td>1.0</td>\n",
              "      <td>БАНАНЫ кг</td>\n",
              "      <td>0</td>\n",
              "      <td>0</td>\n",
              "      <td>0</td>\n",
              "      <td>0</td>\n",
              "      <td>0</td>\n",
              "      <td>0</td>\n",
              "      <td>0</td>\n",
              "      <td>0</td>\n",
              "      <td>0</td>\n",
              "      <td>0</td>\n",
              "      <td>2</td>\n",
              "    </tr>\n",
              "  </tbody>\n",
              "</table>\n",
              "</div>"
            ],
            "text/plain": [
              "   receipt_dayofweek  item_quantity  ...  is_dnevnik  item_name_len\n",
              "0                  4       0.702276  ...           0              0\n",
              "1                  6       2.375333  ...           0              2\n",
              "2                  6       1.637363  ...           0              1\n",
              "3                  6       1.222222  ...           0              1\n",
              "4                  5       0.642447  ...           0              2\n",
              "\n",
              "[5 rows x 23 columns]"
            ]
          },
          "metadata": {
            "tags": []
          },
          "execution_count": 35
        }
      ]
    },
    {
      "cell_type": "code",
      "metadata": {
        "id": "Xv7g-KUaY-Rd"
      },
      "source": [
        "X_train_agg = X_all_agg[~X_all_agg[\"item_name\"].isin(test[\"item_name\"].values)] # обязательно убрать из трейна тестовые объекты!!!"
      ],
      "execution_count": null,
      "outputs": []
    },
    {
      "cell_type": "code",
      "metadata": {
        "colab": {
          "base_uri": "https://localhost:8080/"
        },
        "id": "K2jSrS9zbboL",
        "outputId": "5aed5ce6-5315-4187-fc8d-498ff57f379e"
      },
      "source": [
        "X_train_agg.shape"
      ],
      "execution_count": null,
      "outputs": [
        {
          "output_type": "execute_result",
          "data": {
            "text/plain": [
              "(55216, 23)"
            ]
          },
          "metadata": {
            "tags": []
          },
          "execution_count": 37
        }
      ]
    },
    {
      "cell_type": "code",
      "metadata": {
        "id": "dMonCqXaay3G"
      },
      "source": [
        ""
      ],
      "execution_count": null,
      "outputs": []
    },
    {
      "cell_type": "markdown",
      "metadata": {
        "id": "36ddoszlNjwe"
      },
      "source": [
        "### Промежуточное сохранение/загрузка доразмеченных данных"
      ]
    },
    {
      "cell_type": "code",
      "metadata": {
        "id": "iNxUN0unT4Aj"
      },
      "source": [
        "#X_train_agg.to_csv(path_to_data+\"stacking_19_03_vlad\"+\"x_train_agg_with_not_marked.csv\")"
      ],
      "execution_count": null,
      "outputs": []
    },
    {
      "cell_type": "code",
      "metadata": {
        "id": "oi4APQxvaylp"
      },
      "source": [
        ""
      ],
      "execution_count": null,
      "outputs": []
    },
    {
      "cell_type": "code",
      "metadata": {
        "id": "sNUzVLifuSTh"
      },
      "source": [
        "X_train_agg = pd.read_csv(path_to_data+\"stacking_19_03_vlad\"+\"x_train_agg_with_not_marked.csv\", index_col='Unnamed: 0')"
      ],
      "execution_count": null,
      "outputs": []
    },
    {
      "cell_type": "code",
      "metadata": {
        "id": "hvkhfL--uZVP"
      },
      "source": [
        "X_train_agg = X_train_agg.iloc[1:]"
      ],
      "execution_count": null,
      "outputs": []
    },
    {
      "cell_type": "code",
      "metadata": {
        "id": "MAacxfQOv8zN"
      },
      "source": [
        "X_train_agg.reset_index(drop=True, inplace=True)"
      ],
      "execution_count": null,
      "outputs": []
    },
    {
      "cell_type": "code",
      "metadata": {
        "id": "eMwSYmoYwE2o"
      },
      "source": [
        "X_train_agg"
      ],
      "execution_count": null,
      "outputs": []
    },
    {
      "cell_type": "markdown",
      "metadata": {
        "id": "v8maVXZHHYj4"
      },
      "source": [
        "## TFIDF"
      ]
    },
    {
      "cell_type": "code",
      "metadata": {
        "colab": {
          "base_uri": "https://localhost:8080/"
        },
        "id": "J6zpyf_-85lR",
        "outputId": "8bd41ae7-8676-4660-c688-eae47bb5f7c5"
      },
      "source": [
        "X_train_agg.shape"
      ],
      "execution_count": null,
      "outputs": [
        {
          "output_type": "execute_result",
          "data": {
            "text/plain": [
              "(63216, 23)"
            ]
          },
          "metadata": {
            "tags": []
          },
          "execution_count": 59
        }
      ]
    },
    {
      "cell_type": "code",
      "metadata": {
        "colab": {
          "base_uri": "https://localhost:8080/"
        },
        "id": "ll-n89zd88U4",
        "outputId": "d7735c5b-146b-484c-e2dd-ed9d137bec56"
      },
      "source": [
        "X_all_agg.shape"
      ],
      "execution_count": null,
      "outputs": [
        {
          "output_type": "execute_result",
          "data": {
            "text/plain": [
              "(63216, 23)"
            ]
          },
          "metadata": {
            "tags": []
          },
          "execution_count": 60
        }
      ]
    },
    {
      "cell_type": "code",
      "metadata": {
        "id": "kzL8xcBP2x-O"
      },
      "source": [
        "X_train_agg = X_all_agg"
      ],
      "execution_count": null,
      "outputs": []
    },
    {
      "cell_type": "code",
      "metadata": {
        "id": "ATWxnf8ORKU_"
      },
      "source": [
        "tfidf = TfidfVectorizer(stop_words=stop_russian_words, max_features=160000, ngram_range=(1,5), analyzer=\"char_wb\")\n",
        "X_train_tfidf = tfidf.fit_transform(X_train_agg[\"item_name\"])\n",
        "X_test_tfidf =  tfidf.transform(test[\"item_name\"])"
      ],
      "execution_count": null,
      "outputs": []
    },
    {
      "cell_type": "code",
      "metadata": {
        "id": "b_zQ7kU2E69z"
      },
      "source": [
        "tfidf_prod = TfidfVectorizer(stop_words=stop_russian_words, max_features=160000, ngram_range=(1,5), analyzer=\"char_wb\")\n",
        "X_train_tfidf_prod = tfidf_prod.fit_transform(X_all_agg[\"item_name\"])\n",
        "\n",
        "pickle.dump(tfidf_prod, open(path_to_data+'/stacking_21_03/'+'tfidf', 'wb'))"
      ],
      "execution_count": null,
      "outputs": []
    },
    {
      "cell_type": "code",
      "metadata": {
        "colab": {
          "base_uri": "https://localhost:8080/",
          "height": 626
        },
        "id": "-eGBRtmpVYPc",
        "outputId": "b32cf99b-fb73-47e8-94c4-4c3f954d2f7f"
      },
      "source": [
        "X_all_agg"
      ],
      "execution_count": null,
      "outputs": [
        {
          "output_type": "execute_result",
          "data": {
            "text/html": [
              "<div>\n",
              "<style scoped>\n",
              "    .dataframe tbody tr th:only-of-type {\n",
              "        vertical-align: middle;\n",
              "    }\n",
              "\n",
              "    .dataframe tbody tr th {\n",
              "        vertical-align: top;\n",
              "    }\n",
              "\n",
              "    .dataframe thead th {\n",
              "        text-align: right;\n",
              "    }\n",
              "</style>\n",
              "<table border=\"1\" class=\"dataframe\">\n",
              "  <thead>\n",
              "    <tr style=\"text-align: right;\">\n",
              "      <th></th>\n",
              "      <th>receipt_dayofweek</th>\n",
              "      <th>item_quantity</th>\n",
              "      <th>item_price</th>\n",
              "      <th>item_nds_rate</th>\n",
              "      <th>day_of_part</th>\n",
              "      <th>is_int_quanitity</th>\n",
              "      <th>mean_item_quantity</th>\n",
              "      <th>mean_item_price</th>\n",
              "      <th>mean_item_counts</th>\n",
              "      <th>category_id</th>\n",
              "      <th>category_id_prob</th>\n",
              "      <th>item_name</th>\n",
              "      <th>is_preservativ</th>\n",
              "      <th>is_auto</th>\n",
              "      <th>is_paper</th>\n",
              "      <th>is_otkritka</th>\n",
              "      <th>is_born</th>\n",
              "      <th>is_a4</th>\n",
              "      <th>is_ubiley</th>\n",
              "      <th>is_list</th>\n",
              "      <th>is_kanc</th>\n",
              "      <th>is_dnevnik</th>\n",
              "      <th>item_name_len</th>\n",
              "    </tr>\n",
              "  </thead>\n",
              "  <tbody>\n",
              "    <tr>\n",
              "      <th>0</th>\n",
              "      <td>4</td>\n",
              "      <td>0.702276</td>\n",
              "      <td>11.775862</td>\n",
              "      <td>6</td>\n",
              "      <td>afternoon</td>\n",
              "      <td>True</td>\n",
              "      <td>1.005162</td>\n",
              "      <td>10.519226</td>\n",
              "      <td>4.137931</td>\n",
              "      <td>84</td>\n",
              "      <td>1.000000</td>\n",
              "      <td></td>\n",
              "      <td>0</td>\n",
              "      <td>0</td>\n",
              "      <td>0</td>\n",
              "      <td>0</td>\n",
              "      <td>0</td>\n",
              "      <td>0</td>\n",
              "      <td>0</td>\n",
              "      <td>0</td>\n",
              "      <td>0</td>\n",
              "      <td>0</td>\n",
              "      <td>0</td>\n",
              "    </tr>\n",
              "    <tr>\n",
              "      <th>1</th>\n",
              "      <td>6</td>\n",
              "      <td>2.375333</td>\n",
              "      <td>5.333333</td>\n",
              "      <td>5</td>\n",
              "      <td>afternoon</td>\n",
              "      <td>True</td>\n",
              "      <td>1.376065</td>\n",
              "      <td>7.561111</td>\n",
              "      <td>5.166667</td>\n",
              "      <td>80</td>\n",
              "      <td>1.000000</td>\n",
              "      <td>КАРТОФЕЛЬ ВЕС</td>\n",
              "      <td>0</td>\n",
              "      <td>0</td>\n",
              "      <td>0</td>\n",
              "      <td>0</td>\n",
              "      <td>0</td>\n",
              "      <td>0</td>\n",
              "      <td>0</td>\n",
              "      <td>0</td>\n",
              "      <td>0</td>\n",
              "      <td>0</td>\n",
              "      <td>2</td>\n",
              "    </tr>\n",
              "    <tr>\n",
              "      <th>2</th>\n",
              "      <td>6</td>\n",
              "      <td>1.637363</td>\n",
              "      <td>9.000000</td>\n",
              "      <td>1</td>\n",
              "      <td>afternoon</td>\n",
              "      <td>False</td>\n",
              "      <td>1.398866</td>\n",
              "      <td>7.828059</td>\n",
              "      <td>5.318681</td>\n",
              "      <td>130</td>\n",
              "      <td>1.000000</td>\n",
              "      <td>МИСКА</td>\n",
              "      <td>0</td>\n",
              "      <td>0</td>\n",
              "      <td>0</td>\n",
              "      <td>0</td>\n",
              "      <td>0</td>\n",
              "      <td>0</td>\n",
              "      <td>0</td>\n",
              "      <td>0</td>\n",
              "      <td>0</td>\n",
              "      <td>0</td>\n",
              "      <td>1</td>\n",
              "    </tr>\n",
              "    <tr>\n",
              "      <th>3</th>\n",
              "      <td>6</td>\n",
              "      <td>1.222222</td>\n",
              "      <td>9.000000</td>\n",
              "      <td>-1</td>\n",
              "      <td>afternoon</td>\n",
              "      <td>False</td>\n",
              "      <td>1.264021</td>\n",
              "      <td>8.005820</td>\n",
              "      <td>3.777778</td>\n",
              "      <td>61</td>\n",
              "      <td>1.000000</td>\n",
              "      <td>НОСКИ</td>\n",
              "      <td>0</td>\n",
              "      <td>0</td>\n",
              "      <td>0</td>\n",
              "      <td>0</td>\n",
              "      <td>0</td>\n",
              "      <td>0</td>\n",
              "      <td>0</td>\n",
              "      <td>0</td>\n",
              "      <td>0</td>\n",
              "      <td>0</td>\n",
              "      <td>1</td>\n",
              "    </tr>\n",
              "    <tr>\n",
              "      <th>4</th>\n",
              "      <td>5</td>\n",
              "      <td>0.642447</td>\n",
              "      <td>9.212766</td>\n",
              "      <td>5</td>\n",
              "      <td>afternoon</td>\n",
              "      <td>True</td>\n",
              "      <td>0.835412</td>\n",
              "      <td>9.079838</td>\n",
              "      <td>4.042553</td>\n",
              "      <td>80</td>\n",
              "      <td>1.000000</td>\n",
              "      <td>БАНАНЫ кг</td>\n",
              "      <td>0</td>\n",
              "      <td>0</td>\n",
              "      <td>0</td>\n",
              "      <td>0</td>\n",
              "      <td>0</td>\n",
              "      <td>0</td>\n",
              "      <td>0</td>\n",
              "      <td>0</td>\n",
              "      <td>0</td>\n",
              "      <td>0</td>\n",
              "      <td>2</td>\n",
              "    </tr>\n",
              "    <tr>\n",
              "      <th>...</th>\n",
              "      <td>...</td>\n",
              "      <td>...</td>\n",
              "      <td>...</td>\n",
              "      <td>...</td>\n",
              "      <td>...</td>\n",
              "      <td>...</td>\n",
              "      <td>...</td>\n",
              "      <td>...</td>\n",
              "      <td>...</td>\n",
              "      <td>...</td>\n",
              "      <td>...</td>\n",
              "      <td>...</td>\n",
              "      <td>...</td>\n",
              "      <td>...</td>\n",
              "      <td>...</td>\n",
              "      <td>...</td>\n",
              "      <td>...</td>\n",
              "      <td>...</td>\n",
              "      <td>...</td>\n",
              "      <td>...</td>\n",
              "      <td>...</td>\n",
              "      <td>...</td>\n",
              "      <td>...</td>\n",
              "    </tr>\n",
              "    <tr>\n",
              "      <th>63211</th>\n",
              "      <td>3</td>\n",
              "      <td>1.000000</td>\n",
              "      <td>10.000000</td>\n",
              "      <td>6</td>\n",
              "      <td>afternoon</td>\n",
              "      <td>False</td>\n",
              "      <td>1.000000</td>\n",
              "      <td>12.333333</td>\n",
              "      <td>3.000000</td>\n",
              "      <td>42</td>\n",
              "      <td>0.808911</td>\n",
              "      <td>№07 Step Лак для ногтей \"Dance Legend\" шт</td>\n",
              "      <td>0</td>\n",
              "      <td>0</td>\n",
              "      <td>0</td>\n",
              "      <td>0</td>\n",
              "      <td>0</td>\n",
              "      <td>0</td>\n",
              "      <td>0</td>\n",
              "      <td>0</td>\n",
              "      <td>0</td>\n",
              "      <td>0</td>\n",
              "      <td>8</td>\n",
              "    </tr>\n",
              "    <tr>\n",
              "      <th>63212</th>\n",
              "      <td>1</td>\n",
              "      <td>1.509434</td>\n",
              "      <td>11.000000</td>\n",
              "      <td>6</td>\n",
              "      <td>afternoon</td>\n",
              "      <td>False</td>\n",
              "      <td>1.401258</td>\n",
              "      <td>10.004403</td>\n",
              "      <td>2.207547</td>\n",
              "      <td>71</td>\n",
              "      <td>1.000000</td>\n",
              "      <td>№1 с люля-кебаб (фри) 1  порц</td>\n",
              "      <td>0</td>\n",
              "      <td>0</td>\n",
              "      <td>0</td>\n",
              "      <td>0</td>\n",
              "      <td>0</td>\n",
              "      <td>0</td>\n",
              "      <td>0</td>\n",
              "      <td>0</td>\n",
              "      <td>0</td>\n",
              "      <td>0</td>\n",
              "      <td>6</td>\n",
              "    </tr>\n",
              "    <tr>\n",
              "      <th>63213</th>\n",
              "      <td>4</td>\n",
              "      <td>1.000000</td>\n",
              "      <td>9.000000</td>\n",
              "      <td>6</td>\n",
              "      <td>late evening</td>\n",
              "      <td>False</td>\n",
              "      <td>1.500000</td>\n",
              "      <td>9.000000</td>\n",
              "      <td>2.000000</td>\n",
              "      <td>67</td>\n",
              "      <td>0.796135</td>\n",
              "      <td>№3 Суши креветка \"Эби\"</td>\n",
              "      <td>0</td>\n",
              "      <td>0</td>\n",
              "      <td>0</td>\n",
              "      <td>0</td>\n",
              "      <td>0</td>\n",
              "      <td>0</td>\n",
              "      <td>0</td>\n",
              "      <td>0</td>\n",
              "      <td>0</td>\n",
              "      <td>0</td>\n",
              "      <td>4</td>\n",
              "    </tr>\n",
              "    <tr>\n",
              "      <th>63214</th>\n",
              "      <td>2</td>\n",
              "      <td>1.000000</td>\n",
              "      <td>18.000000</td>\n",
              "      <td>6</td>\n",
              "      <td>late evening</td>\n",
              "      <td>False</td>\n",
              "      <td>1.000000</td>\n",
              "      <td>18.000000</td>\n",
              "      <td>1.000000</td>\n",
              "      <td>67</td>\n",
              "      <td>0.877610</td>\n",
              "      <td>№5 Сет-Филадельфия</td>\n",
              "      <td>0</td>\n",
              "      <td>0</td>\n",
              "      <td>0</td>\n",
              "      <td>0</td>\n",
              "      <td>0</td>\n",
              "      <td>0</td>\n",
              "      <td>0</td>\n",
              "      <td>0</td>\n",
              "      <td>0</td>\n",
              "      <td>0</td>\n",
              "      <td>2</td>\n",
              "    </tr>\n",
              "    <tr>\n",
              "      <th>63215</th>\n",
              "      <td>4</td>\n",
              "      <td>1.000000</td>\n",
              "      <td>14.000000</td>\n",
              "      <td>6</td>\n",
              "      <td>afternoon</td>\n",
              "      <td>False</td>\n",
              "      <td>1.000000</td>\n",
              "      <td>13.500000</td>\n",
              "      <td>2.000000</td>\n",
              "      <td>150</td>\n",
              "      <td>1.000000</td>\n",
              "      <td>╣1 Игрушка  для собак в форме восьмерки,Т10</td>\n",
              "      <td>0</td>\n",
              "      <td>0</td>\n",
              "      <td>0</td>\n",
              "      <td>0</td>\n",
              "      <td>0</td>\n",
              "      <td>0</td>\n",
              "      <td>0</td>\n",
              "      <td>0</td>\n",
              "      <td>0</td>\n",
              "      <td>0</td>\n",
              "      <td>7</td>\n",
              "    </tr>\n",
              "  </tbody>\n",
              "</table>\n",
              "<p>63216 rows × 23 columns</p>\n",
              "</div>"
            ],
            "text/plain": [
              "       receipt_dayofweek  item_quantity  ...  is_dnevnik  item_name_len\n",
              "0                      4       0.702276  ...           0              0\n",
              "1                      6       2.375333  ...           0              2\n",
              "2                      6       1.637363  ...           0              1\n",
              "3                      6       1.222222  ...           0              1\n",
              "4                      5       0.642447  ...           0              2\n",
              "...                  ...            ...  ...         ...            ...\n",
              "63211                  3       1.000000  ...           0              8\n",
              "63212                  1       1.509434  ...           0              6\n",
              "63213                  4       1.000000  ...           0              4\n",
              "63214                  2       1.000000  ...           0              2\n",
              "63215                  4       1.000000  ...           0              7\n",
              "\n",
              "[63216 rows x 23 columns]"
            ]
          },
          "metadata": {
            "tags": []
          },
          "execution_count": 61
        }
      ]
    },
    {
      "cell_type": "markdown",
      "metadata": {
        "id": "LBvWeU73Hc0A"
      },
      "source": [
        "## SVM над TFIDF"
      ]
    },
    {
      "cell_type": "code",
      "metadata": {
        "colab": {
          "base_uri": "https://localhost:8080/"
        },
        "id": "V7g3t50ickTy",
        "outputId": "96261f43-10bb-4048-cb22-4d0281b142a0"
      },
      "source": [
        "params = {\n",
        "      \"max_iter\" : 2000, \n",
        "      \"penalty\" : \"l2\",\n",
        "      \"C\" : 0.9,\n",
        "      \"tol\" : 1e-6,\n",
        "      \"random_state\" : 42,\n",
        "}\n",
        "\n",
        "calib_model = CalibratedClassifierCV(LinearSVC(**params))\n",
        "calib_model.fit(X_train_tfidf, X_train_agg[\"category_id\"]) # ТРЕТИЙ ПАРАМЕТР МОЖНО ДОБАВИТЬ (НУЖНЫ ЭКСПЕРИМЕНТЫ)"
      ],
      "execution_count": null,
      "outputs": [
        {
          "output_type": "execute_result",
          "data": {
            "text/plain": [
              "CalibratedClassifierCV(base_estimator=LinearSVC(C=0.8, class_weight=None,\n",
              "                                                dual=True, fit_intercept=True,\n",
              "                                                intercept_scaling=1,\n",
              "                                                loss='squared_hinge',\n",
              "                                                max_iter=2000,\n",
              "                                                multi_class='ovr', penalty='l2',\n",
              "                                                random_state=42, tol=1e-06,\n",
              "                                                verbose=0),\n",
              "                       cv=None, method='sigmoid')"
            ]
          },
          "metadata": {
            "tags": []
          },
          "execution_count": 128
        }
      ]
    },
    {
      "cell_type": "code",
      "metadata": {
        "colab": {
          "base_uri": "https://localhost:8080/"
        },
        "id": "fkX7r5EkXN8h",
        "outputId": "97e7b9b2-ba7d-4b04-b264-0de54908255e"
      },
      "source": [
        "y_pred = calib_model.predict(X_test_tfidf)\n",
        "f1_score(y_pred, test[\"category_id\"], average=\"weighted\")\n",
        "# 0.8469366334321011 без дорахметки\n",
        "# 0.8484153311883393\n",
        "# 0.8488989894744159 balanced\n",
        "# 0.848911177179441 no balanced\n",
        "# 0.849173317346558 no bad classes + balances\n",
        "# 0.8477197001215887 0.85 + no bad classes + balances\n",
        "# 0.8492310007819597 0.75 + no bad classes + balances\n",
        "# 0.8470262437296944 0.75 + no bad classes (more) + balances\n",
        "# 0.8480243236659688 0.75 + no bad classes (less) + balances\n",
        "# 0.8493783343503385 0.75 + no bad classes (less) + balances + 115000\n",
        "# 0.8496948644974475 0.75 + no bad classes (less) + balances + 110000\n",
        "# 0.8491 ........... 0.75 + no bad classes (less) + balances + 105000\n",
        "# 0.8487785299951248 0.8\n",
        "# 0.8487709884622684 0.75 + 12000\n",
        "# 0.8507260896737594 0.75 + 8000\n",
        "# 0.8500041946390465 0.75 + 6000\n",
        "# 0.8484266232970054 0.75 + 7000\n",
        "# 0.849915817325545  0.75 + 9000"
      ],
      "execution_count": null,
      "outputs": [
        {
          "output_type": "execute_result",
          "data": {
            "text/plain": [
              "0.847754322774402"
            ]
          },
          "metadata": {
            "tags": []
          },
          "execution_count": 129
        }
      ]
    },
    {
      "cell_type": "code",
      "metadata": {
        "id": "HbPec_bqikxB",
        "colab": {
          "base_uri": "https://localhost:8080/"
        },
        "outputId": "225e42e8-6537-45fc-9b5a-d8bd4d1f7480"
      },
      "source": [
        "params = {\n",
        "      \"max_iter\" : 2000, \n",
        "      \"penalty\" : \"l2\",\n",
        "      \"C\" : 0.9,\n",
        "      \"tol\" : 1e-7,\n",
        "      \"random_state\" : 42,\n",
        "}\n",
        "\n",
        "calib_model = CalibratedClassifierCV(LinearSVC(**params))\n",
        "calib_model.fit(X_train_tfidf, X_train_agg[\"category_id\"])\n",
        "print(\"Калибровка закончена\")\n",
        "\n",
        "kfold = StratifiedKFold(n_splits=5, random_state=41, shuffle=True)  \n",
        "cv = kfold.split(X_train_tfidf, X_train_agg[\"category_id\"])\n",
        "\n",
        "y_pred_svm = cross_val_predict(calib_model, X_train_tfidf, X_train_agg[\"category_id\"], cv=cv, method=\"predict_proba\", n_jobs=-1)"
      ],
      "execution_count": null,
      "outputs": [
        {
          "output_type": "stream",
          "text": [
            "Калибровка закончена\n"
          ],
          "name": "stdout"
        }
      ]
    },
    {
      "cell_type": "code",
      "metadata": {
        "colab": {
          "base_uri": "https://localhost:8080/"
        },
        "id": "g0i8VvUQ8aYW",
        "outputId": "76367712-9b34-4cf2-950f-a8c5685d16fd"
      },
      "source": [
        "X_train_tfidf_prod"
      ],
      "execution_count": null,
      "outputs": [
        {
          "output_type": "execute_result",
          "data": {
            "text/plain": [
              "<63216x160000 sparse matrix of type '<class 'numpy.float64'>'\n",
              "\twith 7056109 stored elements in Compressed Sparse Row format>"
            ]
          },
          "metadata": {
            "tags": []
          },
          "execution_count": 41
        }
      ]
    },
    {
      "cell_type": "code",
      "metadata": {
        "id": "zpJboZRcFxgc"
      },
      "source": [
        "# SAVE MODEL\n",
        "\n",
        "params = {\n",
        "      \"max_iter\" : 2000, \n",
        "      \"penalty\" : \"l2\",\n",
        "      \"C\" : 0.9,\n",
        "      \"tol\" : 1e-7,\n",
        "      \"random_state\" : 42,\n",
        "}\n",
        "\n",
        "model_svm_p_prod = LinearSVC(**params)\n",
        "\n",
        "calib_model_p_prod = CalibratedClassifierCV(model_svm_p_prod)\n",
        "calib_model_p_prod.fit(X_train_tfidf_prod, X_all_agg[\"category_id\"])\n",
        "\n",
        "pickle.dump(calib_model_p_prod, open(path_to_data+'/stacking_21_03/'+'svm_tfidf', 'wb'))"
      ],
      "execution_count": null,
      "outputs": []
    },
    {
      "cell_type": "markdown",
      "metadata": {
        "id": "H6zTwdCKHh2F"
      },
      "source": [
        "## GB над categorical and numerical features+preprocessing"
      ]
    },
    {
      "cell_type": "code",
      "metadata": {
        "id": "YlTW8cE3qk0l"
      },
      "source": [
        "numeric_features = ['item_quantity', 'item_price', 'mean_item_quantity', 'mean_item_price', 'mean_item_counts']\n",
        "categorical_features = ['receipt_dayofweek', 'item_nds_rate', 'day_of_part']\n",
        "binary_features = ['is_int_quanitity', 'is_preservativ', 'is_paper', 'is_otkritka', 'is_born', 'is_a4', 'is_ubiley',                                         \n",
        "                 'is_auto', 'is_list', 'is_kanc', 'is_dnevnik']"
      ],
      "execution_count": null,
      "outputs": []
    },
    {
      "cell_type": "code",
      "metadata": {
        "id": "6Psd9wLKuMHC"
      },
      "source": [
        "ohe = OneHotEncoder(handle_unknown=\"ignore\")\n",
        "sd = StandardScaler()\n",
        "X_cat = ohe.fit_transform(X_train_agg[categorical_features])\n",
        "X_num = sd.fit_transform(X_train_agg[numeric_features])\n",
        "X_bi = X_train_agg[binary_features].values"
      ],
      "execution_count": null,
      "outputs": []
    },
    {
      "cell_type": "code",
      "metadata": {
        "id": "YsaZ410wVlKE"
      },
      "source": [
        "X_num_cat = np.hstack([X_num, X_cat.toarray(), X_bi])"
      ],
      "execution_count": null,
      "outputs": []
    },
    {
      "cell_type": "code",
      "metadata": {
        "id": "Wx_CzH1vF4F4"
      },
      "source": [
        "# SAVE MODEL\n",
        "pickle.dump(ohe, open(path_to_data+'/stacking_20_03_markup/'+'prepro_ohe', 'wb'))\n",
        "pickle.dump(sd, open(path_to_data+'/stacking_20_03_markup/'+'prepro_sd', 'wb'))"
      ],
      "execution_count": null,
      "outputs": []
    },
    {
      "cell_type": "code",
      "metadata": {
        "id": "bjPBrrSDumBx"
      },
      "source": [
        "params = {\n",
        "    \"n_estimators\" : 150,\n",
        "    \"objective\" : \"multiclass\",\n",
        "    \"metric\" : \"multi_logloss\",\n",
        "    \"num_class\" : 96,\n",
        "    \"reg_lambda\" : 1,\n",
        "    \"n_jobs\":-1\n",
        "}\n",
        "\n",
        "model_num_cat = lgb.LGBMClassifier(**params)\n",
        "model_num_cat.fit(X_num_cat, X_train_agg[\"category_id\"])"
      ],
      "execution_count": null,
      "outputs": []
    },
    {
      "cell_type": "code",
      "metadata": {
        "id": "0xtE_Wr1XpMh"
      },
      "source": [
        "y_pred = model_num_cat.predict(test) #Надо тест трансформировать\n",
        "f1_score(y_pred, test[\"category_id\"])"
      ],
      "execution_count": null,
      "outputs": []
    },
    {
      "cell_type": "code",
      "metadata": {
        "id": "YLB0KRy-04jl"
      },
      "source": [
        "params = {\n",
        "    \"n_estimators\" : 110,\n",
        "    \"objective\" : \"multiclass\",\n",
        "    \"metric\" : \"multi_logloss\", # можно поменять\n",
        "    \"num_class\" : 96,\n",
        "    \"reg_lambda\" : 1,\n",
        "    \"n_jobs\" : -1\n",
        "}\n",
        "\n",
        "model_num_cat = lgb.LGBMClassifier(**params)\n",
        "\n",
        "kfold = StratifiedKFold(n_splits=5, random_state=42, shuffle=True)  \n",
        "cv = kfold.split(X_num_cat, X_train_agg[\"category_id\"])\n",
        "\n",
        "y_pred_num_cat = cross_val_predict(model_num_cat, X_num_cat, X_train_agg[\"category_id\"], cv=cv, method=\"predict_proba\", n_jobs=-1)"
      ],
      "execution_count": null,
      "outputs": []
    },
    {
      "cell_type": "markdown",
      "metadata": {
        "id": "-A8f-Mft9nRA"
      },
      "source": [
        "#### prod"
      ]
    },
    {
      "cell_type": "code",
      "metadata": {
        "id": "vRmj9xWh9PKL"
      },
      "source": [
        "ohe_prod = OneHotEncoder(handle_unknown=\"ignore\")\n",
        "sd_prod = StandardScaler()\n",
        "X_cat_prod = ohe_prod.fit_transform(X_all_agg[categorical_features])\n",
        "X_num_prod = sd_prod.fit_transform(X_all_agg[numeric_features])\n",
        "X_bi_prod = X_all_agg[binary_features].values"
      ],
      "execution_count": null,
      "outputs": []
    },
    {
      "cell_type": "code",
      "metadata": {
        "id": "y4XpNXMS9R5i"
      },
      "source": [
        "X_num_cat_prod = np.hstack([X_num_prod, X_cat_prod.toarray(), X_bi_prod])"
      ],
      "execution_count": null,
      "outputs": []
    },
    {
      "cell_type": "code",
      "metadata": {
        "id": "pOfXveio9SZA"
      },
      "source": [
        "# SAVE MODEL\n",
        "pickle.dump(ohe_prod, open(path_to_data+'/stacking_21_03/'+'prepro_ohe', 'wb'))\n",
        "pickle.dump(sd_prod, open(path_to_data+'/stacking_21_03/'+'prepro_sd', 'wb'))"
      ],
      "execution_count": null,
      "outputs": []
    },
    {
      "cell_type": "code",
      "metadata": {
        "id": "4izPSlvrGei6"
      },
      "source": [
        "# SAVE MODEL\n",
        "params = {\n",
        "    \"n_estimators\" : 110,\n",
        "    \"objective\" : \"multiclass\",\n",
        "    \"metric\" : \"multi_logloss\", # можно поменять\n",
        "    \"num_class\" : 96,\n",
        "    \"reg_lambda\" : 1,\n",
        "    \"n_jobs\" : -1\n",
        "}\n",
        "\n",
        "model_num_cat_p_prod = lgb.LGBMClassifier(**params)\n",
        "model_num_cat_p_prod.fit(X_num_cat_prod, X_all_agg[\"category_id\"])\n",
        "\n",
        "pickle.dump(model_num_cat_p_prod, open(path_to_data+'/stacking_21_03/'+'gb_cat_num', 'wb'))"
      ],
      "execution_count": null,
      "outputs": []
    },
    {
      "cell_type": "markdown",
      "metadata": {
        "id": "yAA621paHsAI"
      },
      "source": [
        "## NaiveBayes"
      ]
    },
    {
      "cell_type": "code",
      "metadata": {
        "colab": {
          "base_uri": "https://localhost:8080/"
        },
        "id": "1g6A0E-GiHzE",
        "outputId": "22c7ebc7-2333-4174-cb4f-e9611253a92f"
      },
      "source": [
        "nb = MultinomialNB(alpha=0.02)\n",
        "nb.fit(X_train_tfidf, X_train_agg[\"category_id\"])"
      ],
      "execution_count": null,
      "outputs": [
        {
          "output_type": "execute_result",
          "data": {
            "text/plain": [
              "MultinomialNB(alpha=0.02, class_prior=None, fit_prior=True)"
            ]
          },
          "metadata": {
            "tags": []
          },
          "execution_count": 119
        }
      ]
    },
    {
      "cell_type": "code",
      "metadata": {
        "colab": {
          "base_uri": "https://localhost:8080/"
        },
        "id": "InMsp7VHX7rR",
        "outputId": "d1de5e58-cce9-458c-ae17-5a650c5201c1"
      },
      "source": [
        "y_pred = nb.predict(X_test_tfidf)\n",
        "f1_score(y_pred, test[\"category_id\"], average=\"weighted\")\n",
        "# 0.813311980298414"
      ],
      "execution_count": null,
      "outputs": [
        {
          "output_type": "execute_result",
          "data": {
            "text/plain": [
              "0.8134524306128547"
            ]
          },
          "metadata": {
            "tags": []
          },
          "execution_count": 120
        }
      ]
    },
    {
      "cell_type": "code",
      "metadata": {
        "id": "SF5vC_wzkslW",
        "colab": {
          "base_uri": "https://localhost:8080/"
        },
        "outputId": "f7eeb5a8-85a8-424b-f2ba-d45b5c76a4b8"
      },
      "source": [
        "model_nb = MultinomialNB(alpha=0.003)\n",
        "\n",
        "kfold = StratifiedKFold(n_splits=7, random_state=40, shuffle=True)  \n",
        "cv = kfold.split(X_train_tfidf, X_train_agg[\"category_id\"])\n",
        "\n",
        "y_pred_nb = cross_val_predict(model_nb, X_train_tfidf, X_train_agg[\"category_id\"], cv=cv, method=\"predict_proba\", n_jobs=-1)"
      ],
      "execution_count": null,
      "outputs": [
        {
          "output_type": "stream",
          "text": [
            "/usr/local/lib/python3.7/dist-packages/joblib/externals/loky/process_executor.py:691: UserWarning: A worker stopped while some jobs were given to the executor. This can be caused by a too short worker timeout or by a memory leak.\n",
            "  \"timeout or by a memory leak.\", UserWarning\n"
          ],
          "name": "stderr"
        }
      ]
    },
    {
      "cell_type": "code",
      "metadata": {
        "id": "zNrvaSWxG-H5"
      },
      "source": [
        "# SAVE MODEL\n",
        "model_nb_p_prod = MultinomialNB(alpha=0.003)\n",
        "model_nb_p_prod.fit(X_train_tfidf_prod, X_all_agg[\"category_id\"])\n",
        "\n",
        "pickle.dump(model_nb_p_prod, open(path_to_data+'/stacking_21_03/'+'nb_tfdif', 'wb'))"
      ],
      "execution_count": null,
      "outputs": []
    },
    {
      "cell_type": "markdown",
      "metadata": {
        "id": "a8qr1boKHxNU"
      },
      "source": [
        "## Stacking"
      ]
    },
    {
      "cell_type": "code",
      "metadata": {
        "id": "wLc3k3UoAQ4h"
      },
      "source": [
        "X_train_stacking = np.hstack((y_pred_svm, y_pred_num_cat, y_pred_nb))"
      ],
      "execution_count": null,
      "outputs": []
    },
    {
      "cell_type": "code",
      "metadata": {
        "colab": {
          "base_uri": "https://localhost:8080/"
        },
        "id": "T8jKs8TykdW1",
        "outputId": "594d9c5d-38d4-448d-a579-36057d395b83"
      },
      "source": [
        "X_train_stacking.shape"
      ],
      "execution_count": null,
      "outputs": [
        {
          "output_type": "execute_result",
          "data": {
            "text/plain": [
              "(48220, 288)"
            ]
          },
          "metadata": {
            "tags": []
          },
          "execution_count": 120
        }
      ]
    },
    {
      "cell_type": "code",
      "metadata": {
        "colab": {
          "base_uri": "https://localhost:8080/"
        },
        "id": "nwnS1oVjAK74",
        "outputId": "07a87352-43d4-4231-f948-3e7cdae56611"
      },
      "source": [
        "params = {\n",
        "      \"max_iter\" : 2000, \n",
        "      \"penalty\" : \"l2\",\n",
        "      \"C\" : 1,\n",
        "      \"tol\" : 1e-6,\n",
        "      \"random_state\" : 42,\n",
        "}\n",
        "\n",
        "model_svm_stacking = LinearSVC(**params,)\n",
        "\n",
        "kfold = StratifiedKFold(n_splits=5, random_state=39, shuffle=True)  \n",
        "cv = kfold.split(X_train_stacking, X_train_agg[\"category_id\"])\n",
        "\n",
        "cv_score = cross_val_score(model_svm_stacking, X_train_stacking, X_train_agg[\"category_id\"], cv=cv, scoring='f1_weighted', n_jobs=-1)\n",
        "cv_score, cv_score.mean()\n",
        "# (array([0.85371468, 0.84346967, 0.85472305, 0.84798714, 0.8439762 ]),\n",
        "# 0.8487741484570266)\n",
        "# (array([0.85705507, 0.8468878 , 0.85598468, 0.84854355, 0.84674792]),\n",
        "# 0.8510438057445076)\n",
        "# (array([0.87338505, 0.87668755, 0.8720676 , 0.87894466, 0.87103098]),\n",
        "# 0.8744231679054044) no balance + balance\n",
        "# (array([0.87339161, 0.87667962, 0.87206957, 0.87913748, 0.87113532]),\n",
        "# 0.8744827189212951) no balance + no balance\n",
        "# (array([0.87415502, 0.87401062, 0.87457548, 0.87610206, 0.87652818]),\n",
        "# 0.8750742710101029) no forbidden + no balance + no balance\n",
        "# (array([0.87409408, 0.87739453, 0.8764946 , 0.87854043, 0.87925427]),\n",
        "# 0.8771555841600961) 0.75 + no forbidden + no balance + no balance\n",
        "# (array([0.87675724, 0.8732235 , 0.87709711, 0.88472741, 0.87986508]),\n",
        "# 0.8783340680380063)\n",
        "\n",
        "# (array([0.87069333, 0.86666485, 0.87051296, 0.87871016, 0.86615952]),\n",
        "# 0.8705481645253952) 0.75 + no forbidden + no balance + no balance + 8000 + 110000\n",
        "# (array([0.8728736 , 0.86755725, 0.87068626, 0.88031831, 0.86672393]),\n",
        "# 0.8716318689603838) c=0.8\n",
        "\n",
        "\n",
        "\n",
        "# (array([0.87526649, 0.87717083, 0.87639529, 0.87933725, 0.87958285]),\n",
        "# 0.8775505394752423) 0.001"
      ],
      "execution_count": null,
      "outputs": [
        {
          "output_type": "execute_result",
          "data": {
            "text/plain": [
              "(array([0.89086481, 0.88430327, 0.88618538, 0.88965636, 0.89216889]),\n",
              " 0.8886357443397991)"
            ]
          },
          "metadata": {
            "tags": []
          },
          "execution_count": 76
        }
      ]
    },
    {
      "cell_type": "code",
      "metadata": {
        "id": "NNWypj-E90Qz"
      },
      "source": [
        "(array([0.88955504, 0.88749026, 0.88632709, 0.89287237, 0.89075067]),\n",
        " 0.8893990849788898)"
      ],
      "execution_count": null,
      "outputs": []
    },
    {
      "cell_type": "code",
      "metadata": {
        "id": "LP7eu0dDAHi2"
      },
      "source": [
        "(array([0.87436203, 0.87735661, 0.87612731, 0.8796682 , 0.87982066]),\n",
        " 0.8774669625514709)"
      ],
      "execution_count": null,
      "outputs": []
    },
    {
      "cell_type": "markdown",
      "metadata": {
        "id": "Nl4MKq73BMo5"
      },
      "source": [
        "### Сохраним итоговою модель"
      ]
    },
    {
      "cell_type": "code",
      "metadata": {
        "id": "6HUy08AeHLKu"
      },
      "source": [
        "# SAVE MODEL\n",
        "params = {\n",
        "      \"max_iter\" : 2500, \n",
        "      \"penalty\" : \"l2\",\n",
        "      \"C\" : 1.05,\n",
        "      \"tol\" : 1e-8,\n",
        "      \"random_state\" : 40,\n",
        "}\n",
        "model_svm_stacking_p = LinearSVC(**params)\n",
        "\n",
        "model_svm_stacking_p.fit(X_train_stacking, X_train_agg[\"category_id\"]) # ТРЕТИЙ ПАРАМЕТР МОЖНО УБРАТЬ(НУЖНЫ ЭКСПЕРИМЕНТЫ)\n",
        "\n",
        "pickle.dump(model_svm_stacking_p, open(path_to_data+'/stacking_21_03/'+'svm_stacking', 'wb'))"
      ],
      "execution_count": null,
      "outputs": []
    },
    {
      "cell_type": "code",
      "metadata": {
        "id": "8O0p5FuUWBdw"
      },
      "source": [
        ""
      ],
      "execution_count": null,
      "outputs": []
    }
  ]
}